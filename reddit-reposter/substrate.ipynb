{
 "cells": [
  {
   "cell_type": "code",
   "execution_count": 1,
   "id": "5c549a79",
   "metadata": {},
   "outputs": [],
   "source": [
    "import substrateinterface\n",
    "from substrateinterface import SubstrateInterface, Keypair\n",
    "from substrateinterface.exceptions import SubstrateRequestException\n",
    "\n",
    "substrate = SubstrateInterface(\n",
    "    url=\"https://127.0.0.1:9944\",\n",
    "    ss58_format=42,\n",
    "    type_registry_preset='kusama'\n",
    ")"
   ]
  },
  {
   "cell_type": "code",
   "execution_count": 2,
   "id": "b87aceb5",
   "metadata": {},
   "outputs": [],
   "source": [
    "# Function to make extrinsic calls\n",
    "def make_call(call_module, call_function, call_params, keypair, wait_for_inclusion = True, wait_for_finalization = False):\n",
    "    call = substrate.compose_call(\n",
    "        call_module=call_module,\n",
    "        call_function=call_function,\n",
    "        call_params=call_params\n",
    "    )\n",
    "\n",
    "    extrinsic = substrate.create_signed_extrinsic(call=call, keypair=keypair)\n",
    "\n",
    "    try:\n",
    "        receipt = substrate.submit_extrinsic(extrinsic, wait_for_inclusion=wait_for_inclusion, wait_for_finalization=wait_for_finalization)\n",
    "        print(\"Extrinsic '{}' sent and included in block '{}'\".format(receipt.extrinsic_hash, receipt.block_hash))\n",
    "\n",
    "    except SubstrateRequestException as e:\n",
    "        print(\"Failed to send: {}\".format(e))\n",
    "    return receipt"
   ]
  },
  {
   "cell_type": "code",
   "execution_count": 3,
   "id": "1f9f2899",
   "metadata": {},
   "outputs": [],
   "source": [
    "alice = Keypair.create_from_uri('//Alice')\n",
    "bob = Keypair.create_from_uri('//Bob')"
   ]
  },
  {
   "cell_type": "code",
   "execution_count": 4,
   "id": "3b1d0f10",
   "metadata": {
    "scrolled": true
   },
   "outputs": [
    {
     "ename": "SSLError",
     "evalue": "HTTPSConnectionPool(host='127.0.0.1', port=9944): Max retries exceeded with url: / (Caused by SSLError(SSLEOFError(8, 'EOF occurred in violation of protocol (_ssl.c:1131)')))",
     "output_type": "error",
     "traceback": [
      "\u001b[0;31m---------------------------------------------------------------------------\u001b[0m",
      "\u001b[0;31mSSLEOFError\u001b[0m                               Traceback (most recent call last)",
      "File \u001b[0;32m/usr/lib/python3/dist-packages/urllib3/connectionpool.py:665\u001b[0m, in \u001b[0;36mHTTPConnectionPool.urlopen\u001b[0;34m(self, method, url, body, headers, retries, redirect, assert_same_host, timeout, pool_timeout, release_conn, chunked, body_pos, **response_kw)\u001b[0m\n\u001b[1;32m    664\u001b[0m \u001b[38;5;66;03m# Make the request on the httplib connection object.\u001b[39;00m\n\u001b[0;32m--> 665\u001b[0m httplib_response \u001b[38;5;241m=\u001b[39m \u001b[38;5;28;43mself\u001b[39;49m\u001b[38;5;241;43m.\u001b[39;49m\u001b[43m_make_request\u001b[49m\u001b[43m(\u001b[49m\n\u001b[1;32m    666\u001b[0m \u001b[43m    \u001b[49m\u001b[43mconn\u001b[49m\u001b[43m,\u001b[49m\n\u001b[1;32m    667\u001b[0m \u001b[43m    \u001b[49m\u001b[43mmethod\u001b[49m\u001b[43m,\u001b[49m\n\u001b[1;32m    668\u001b[0m \u001b[43m    \u001b[49m\u001b[43murl\u001b[49m\u001b[43m,\u001b[49m\n\u001b[1;32m    669\u001b[0m \u001b[43m    \u001b[49m\u001b[43mtimeout\u001b[49m\u001b[38;5;241;43m=\u001b[39;49m\u001b[43mtimeout_obj\u001b[49m\u001b[43m,\u001b[49m\n\u001b[1;32m    670\u001b[0m \u001b[43m    \u001b[49m\u001b[43mbody\u001b[49m\u001b[38;5;241;43m=\u001b[39;49m\u001b[43mbody\u001b[49m\u001b[43m,\u001b[49m\n\u001b[1;32m    671\u001b[0m \u001b[43m    \u001b[49m\u001b[43mheaders\u001b[49m\u001b[38;5;241;43m=\u001b[39;49m\u001b[43mheaders\u001b[49m\u001b[43m,\u001b[49m\n\u001b[1;32m    672\u001b[0m \u001b[43m    \u001b[49m\u001b[43mchunked\u001b[49m\u001b[38;5;241;43m=\u001b[39;49m\u001b[43mchunked\u001b[49m\u001b[43m,\u001b[49m\n\u001b[1;32m    673\u001b[0m \u001b[43m\u001b[49m\u001b[43m)\u001b[49m\n\u001b[1;32m    675\u001b[0m \u001b[38;5;66;03m# If we're going to release the connection in ``finally:``, then\u001b[39;00m\n\u001b[1;32m    676\u001b[0m \u001b[38;5;66;03m# the response doesn't need to know about the connection. Otherwise\u001b[39;00m\n\u001b[1;32m    677\u001b[0m \u001b[38;5;66;03m# it will also try to release it and we'll have a double-release\u001b[39;00m\n\u001b[1;32m    678\u001b[0m \u001b[38;5;66;03m# mess.\u001b[39;00m\n",
      "File \u001b[0;32m/usr/lib/python3/dist-packages/urllib3/connectionpool.py:376\u001b[0m, in \u001b[0;36mHTTPConnectionPool._make_request\u001b[0;34m(self, conn, method, url, timeout, chunked, **httplib_request_kw)\u001b[0m\n\u001b[1;32m    375\u001b[0m \u001b[38;5;28;01mtry\u001b[39;00m:\n\u001b[0;32m--> 376\u001b[0m     \u001b[38;5;28;43mself\u001b[39;49m\u001b[38;5;241;43m.\u001b[39;49m\u001b[43m_validate_conn\u001b[49m\u001b[43m(\u001b[49m\u001b[43mconn\u001b[49m\u001b[43m)\u001b[49m\n\u001b[1;32m    377\u001b[0m \u001b[38;5;28;01mexcept\u001b[39;00m (SocketTimeout, BaseSSLError) \u001b[38;5;28;01mas\u001b[39;00m e:\n\u001b[1;32m    378\u001b[0m     \u001b[38;5;66;03m# Py2 raises this as a BaseSSLError, Py3 raises it as socket timeout.\u001b[39;00m\n",
      "File \u001b[0;32m/usr/lib/python3/dist-packages/urllib3/connectionpool.py:996\u001b[0m, in \u001b[0;36mHTTPSConnectionPool._validate_conn\u001b[0;34m(self, conn)\u001b[0m\n\u001b[1;32m    995\u001b[0m \u001b[38;5;28;01mif\u001b[39;00m \u001b[38;5;129;01mnot\u001b[39;00m \u001b[38;5;28mgetattr\u001b[39m(conn, \u001b[38;5;124m\"\u001b[39m\u001b[38;5;124msock\u001b[39m\u001b[38;5;124m\"\u001b[39m, \u001b[38;5;28;01mNone\u001b[39;00m):  \u001b[38;5;66;03m# AppEngine might not have  `.sock`\u001b[39;00m\n\u001b[0;32m--> 996\u001b[0m     \u001b[43mconn\u001b[49m\u001b[38;5;241;43m.\u001b[39;49m\u001b[43mconnect\u001b[49m\u001b[43m(\u001b[49m\u001b[43m)\u001b[49m\n\u001b[1;32m    998\u001b[0m \u001b[38;5;28;01mif\u001b[39;00m \u001b[38;5;129;01mnot\u001b[39;00m conn\u001b[38;5;241m.\u001b[39mis_verified:\n",
      "File \u001b[0;32m/usr/lib/python3/dist-packages/urllib3/connection.py:366\u001b[0m, in \u001b[0;36mVerifiedHTTPSConnection.connect\u001b[0;34m(self)\u001b[0m\n\u001b[1;32m    364\u001b[0m     context\u001b[38;5;241m.\u001b[39mload_default_certs()\n\u001b[0;32m--> 366\u001b[0m \u001b[38;5;28mself\u001b[39m\u001b[38;5;241m.\u001b[39msock \u001b[38;5;241m=\u001b[39m \u001b[43mssl_wrap_socket\u001b[49m\u001b[43m(\u001b[49m\n\u001b[1;32m    367\u001b[0m \u001b[43m    \u001b[49m\u001b[43msock\u001b[49m\u001b[38;5;241;43m=\u001b[39;49m\u001b[43mconn\u001b[49m\u001b[43m,\u001b[49m\n\u001b[1;32m    368\u001b[0m \u001b[43m    \u001b[49m\u001b[43mkeyfile\u001b[49m\u001b[38;5;241;43m=\u001b[39;49m\u001b[38;5;28;43mself\u001b[39;49m\u001b[38;5;241;43m.\u001b[39;49m\u001b[43mkey_file\u001b[49m\u001b[43m,\u001b[49m\n\u001b[1;32m    369\u001b[0m \u001b[43m    \u001b[49m\u001b[43mcertfile\u001b[49m\u001b[38;5;241;43m=\u001b[39;49m\u001b[38;5;28;43mself\u001b[39;49m\u001b[38;5;241;43m.\u001b[39;49m\u001b[43mcert_file\u001b[49m\u001b[43m,\u001b[49m\n\u001b[1;32m    370\u001b[0m \u001b[43m    \u001b[49m\u001b[43mkey_password\u001b[49m\u001b[38;5;241;43m=\u001b[39;49m\u001b[38;5;28;43mself\u001b[39;49m\u001b[38;5;241;43m.\u001b[39;49m\u001b[43mkey_password\u001b[49m\u001b[43m,\u001b[49m\n\u001b[1;32m    371\u001b[0m \u001b[43m    \u001b[49m\u001b[43mca_certs\u001b[49m\u001b[38;5;241;43m=\u001b[39;49m\u001b[38;5;28;43mself\u001b[39;49m\u001b[38;5;241;43m.\u001b[39;49m\u001b[43mca_certs\u001b[49m\u001b[43m,\u001b[49m\n\u001b[1;32m    372\u001b[0m \u001b[43m    \u001b[49m\u001b[43mca_cert_dir\u001b[49m\u001b[38;5;241;43m=\u001b[39;49m\u001b[38;5;28;43mself\u001b[39;49m\u001b[38;5;241;43m.\u001b[39;49m\u001b[43mca_cert_dir\u001b[49m\u001b[43m,\u001b[49m\n\u001b[1;32m    373\u001b[0m \u001b[43m    \u001b[49m\u001b[43mserver_hostname\u001b[49m\u001b[38;5;241;43m=\u001b[39;49m\u001b[43mserver_hostname\u001b[49m\u001b[43m,\u001b[49m\n\u001b[1;32m    374\u001b[0m \u001b[43m    \u001b[49m\u001b[43mssl_context\u001b[49m\u001b[38;5;241;43m=\u001b[39;49m\u001b[43mcontext\u001b[49m\u001b[43m,\u001b[49m\n\u001b[1;32m    375\u001b[0m \u001b[43m\u001b[49m\u001b[43m)\u001b[49m\n\u001b[1;32m    377\u001b[0m \u001b[38;5;28;01mif\u001b[39;00m \u001b[38;5;28mself\u001b[39m\u001b[38;5;241m.\u001b[39massert_fingerprint:\n",
      "File \u001b[0;32m/usr/lib/python3/dist-packages/urllib3/util/ssl_.py:383\u001b[0m, in \u001b[0;36mssl_wrap_socket\u001b[0;34m(sock, keyfile, certfile, cert_reqs, ca_certs, server_hostname, ssl_version, ciphers, ssl_context, ca_cert_dir, key_password)\u001b[0m\n\u001b[1;32m    372\u001b[0m     warnings\u001b[38;5;241m.\u001b[39mwarn(\n\u001b[1;32m    373\u001b[0m         \u001b[38;5;124m\"\u001b[39m\u001b[38;5;124mAn HTTPS request has been made, but the SNI (Server Name \u001b[39m\u001b[38;5;124m\"\u001b[39m\n\u001b[1;32m    374\u001b[0m         \u001b[38;5;124m\"\u001b[39m\u001b[38;5;124mIndication) extension to TLS is not available on this platform. \u001b[39m\u001b[38;5;124m\"\u001b[39m\n\u001b[0;32m   (...)\u001b[0m\n\u001b[1;32m    380\u001b[0m         SNIMissingWarning,\n\u001b[1;32m    381\u001b[0m     )\n\u001b[0;32m--> 383\u001b[0m \u001b[38;5;28;01mreturn\u001b[39;00m \u001b[43mcontext\u001b[49m\u001b[38;5;241;43m.\u001b[39;49m\u001b[43mwrap_socket\u001b[49m\u001b[43m(\u001b[49m\u001b[43msock\u001b[49m\u001b[43m)\u001b[49m\n",
      "File \u001b[0;32m/usr/lib/python3.8/ssl.py:500\u001b[0m, in \u001b[0;36mSSLContext.wrap_socket\u001b[0;34m(self, sock, server_side, do_handshake_on_connect, suppress_ragged_eofs, server_hostname, session)\u001b[0m\n\u001b[1;32m    494\u001b[0m \u001b[38;5;28;01mdef\u001b[39;00m \u001b[38;5;21mwrap_socket\u001b[39m(\u001b[38;5;28mself\u001b[39m, sock, server_side\u001b[38;5;241m=\u001b[39m\u001b[38;5;28;01mFalse\u001b[39;00m,\n\u001b[1;32m    495\u001b[0m                 do_handshake_on_connect\u001b[38;5;241m=\u001b[39m\u001b[38;5;28;01mTrue\u001b[39;00m,\n\u001b[1;32m    496\u001b[0m                 suppress_ragged_eofs\u001b[38;5;241m=\u001b[39m\u001b[38;5;28;01mTrue\u001b[39;00m,\n\u001b[1;32m    497\u001b[0m                 server_hostname\u001b[38;5;241m=\u001b[39m\u001b[38;5;28;01mNone\u001b[39;00m, session\u001b[38;5;241m=\u001b[39m\u001b[38;5;28;01mNone\u001b[39;00m):\n\u001b[1;32m    498\u001b[0m     \u001b[38;5;66;03m# SSLSocket class handles server_hostname encoding before it calls\u001b[39;00m\n\u001b[1;32m    499\u001b[0m     \u001b[38;5;66;03m# ctx._wrap_socket()\u001b[39;00m\n\u001b[0;32m--> 500\u001b[0m     \u001b[38;5;28;01mreturn\u001b[39;00m \u001b[38;5;28;43mself\u001b[39;49m\u001b[38;5;241;43m.\u001b[39;49m\u001b[43msslsocket_class\u001b[49m\u001b[38;5;241;43m.\u001b[39;49m\u001b[43m_create\u001b[49m\u001b[43m(\u001b[49m\n\u001b[1;32m    501\u001b[0m \u001b[43m        \u001b[49m\u001b[43msock\u001b[49m\u001b[38;5;241;43m=\u001b[39;49m\u001b[43msock\u001b[49m\u001b[43m,\u001b[49m\n\u001b[1;32m    502\u001b[0m \u001b[43m        \u001b[49m\u001b[43mserver_side\u001b[49m\u001b[38;5;241;43m=\u001b[39;49m\u001b[43mserver_side\u001b[49m\u001b[43m,\u001b[49m\n\u001b[1;32m    503\u001b[0m \u001b[43m        \u001b[49m\u001b[43mdo_handshake_on_connect\u001b[49m\u001b[38;5;241;43m=\u001b[39;49m\u001b[43mdo_handshake_on_connect\u001b[49m\u001b[43m,\u001b[49m\n\u001b[1;32m    504\u001b[0m \u001b[43m        \u001b[49m\u001b[43msuppress_ragged_eofs\u001b[49m\u001b[38;5;241;43m=\u001b[39;49m\u001b[43msuppress_ragged_eofs\u001b[49m\u001b[43m,\u001b[49m\n\u001b[1;32m    505\u001b[0m \u001b[43m        \u001b[49m\u001b[43mserver_hostname\u001b[49m\u001b[38;5;241;43m=\u001b[39;49m\u001b[43mserver_hostname\u001b[49m\u001b[43m,\u001b[49m\n\u001b[1;32m    506\u001b[0m \u001b[43m        \u001b[49m\u001b[43mcontext\u001b[49m\u001b[38;5;241;43m=\u001b[39;49m\u001b[38;5;28;43mself\u001b[39;49m\u001b[43m,\u001b[49m\n\u001b[1;32m    507\u001b[0m \u001b[43m        \u001b[49m\u001b[43msession\u001b[49m\u001b[38;5;241;43m=\u001b[39;49m\u001b[43msession\u001b[49m\n\u001b[1;32m    508\u001b[0m \u001b[43m    \u001b[49m\u001b[43m)\u001b[49m\n",
      "File \u001b[0;32m/usr/lib/python3.8/ssl.py:1040\u001b[0m, in \u001b[0;36mSSLSocket._create\u001b[0;34m(cls, sock, server_side, do_handshake_on_connect, suppress_ragged_eofs, server_hostname, context, session)\u001b[0m\n\u001b[1;32m   1039\u001b[0m             \u001b[38;5;28;01mraise\u001b[39;00m \u001b[38;5;167;01mValueError\u001b[39;00m(\u001b[38;5;124m\"\u001b[39m\u001b[38;5;124mdo_handshake_on_connect should not be specified for non-blocking sockets\u001b[39m\u001b[38;5;124m\"\u001b[39m)\n\u001b[0;32m-> 1040\u001b[0m         \u001b[38;5;28;43mself\u001b[39;49m\u001b[38;5;241;43m.\u001b[39;49m\u001b[43mdo_handshake\u001b[49m\u001b[43m(\u001b[49m\u001b[43m)\u001b[49m\n\u001b[1;32m   1041\u001b[0m \u001b[38;5;28;01mexcept\u001b[39;00m (\u001b[38;5;167;01mOSError\u001b[39;00m, \u001b[38;5;167;01mValueError\u001b[39;00m):\n",
      "File \u001b[0;32m/usr/lib/python3.8/ssl.py:1309\u001b[0m, in \u001b[0;36mSSLSocket.do_handshake\u001b[0;34m(self, block)\u001b[0m\n\u001b[1;32m   1308\u001b[0m         \u001b[38;5;28mself\u001b[39m\u001b[38;5;241m.\u001b[39msettimeout(\u001b[38;5;28;01mNone\u001b[39;00m)\n\u001b[0;32m-> 1309\u001b[0m     \u001b[38;5;28;43mself\u001b[39;49m\u001b[38;5;241;43m.\u001b[39;49m\u001b[43m_sslobj\u001b[49m\u001b[38;5;241;43m.\u001b[39;49m\u001b[43mdo_handshake\u001b[49m\u001b[43m(\u001b[49m\u001b[43m)\u001b[49m\n\u001b[1;32m   1310\u001b[0m \u001b[38;5;28;01mfinally\u001b[39;00m:\n",
      "\u001b[0;31mSSLEOFError\u001b[0m: EOF occurred in violation of protocol (_ssl.c:1131)",
      "\nDuring handling of the above exception, another exception occurred:\n",
      "\u001b[0;31mMaxRetryError\u001b[0m                             Traceback (most recent call last)",
      "File \u001b[0;32m~/.local/lib/python3.8/site-packages/requests/adapters.py:489\u001b[0m, in \u001b[0;36mHTTPAdapter.send\u001b[0;34m(self, request, stream, timeout, verify, cert, proxies)\u001b[0m\n\u001b[1;32m    488\u001b[0m \u001b[38;5;28;01mif\u001b[39;00m \u001b[38;5;129;01mnot\u001b[39;00m chunked:\n\u001b[0;32m--> 489\u001b[0m     resp \u001b[38;5;241m=\u001b[39m \u001b[43mconn\u001b[49m\u001b[38;5;241;43m.\u001b[39;49m\u001b[43murlopen\u001b[49m\u001b[43m(\u001b[49m\n\u001b[1;32m    490\u001b[0m \u001b[43m        \u001b[49m\u001b[43mmethod\u001b[49m\u001b[38;5;241;43m=\u001b[39;49m\u001b[43mrequest\u001b[49m\u001b[38;5;241;43m.\u001b[39;49m\u001b[43mmethod\u001b[49m\u001b[43m,\u001b[49m\n\u001b[1;32m    491\u001b[0m \u001b[43m        \u001b[49m\u001b[43murl\u001b[49m\u001b[38;5;241;43m=\u001b[39;49m\u001b[43murl\u001b[49m\u001b[43m,\u001b[49m\n\u001b[1;32m    492\u001b[0m \u001b[43m        \u001b[49m\u001b[43mbody\u001b[49m\u001b[38;5;241;43m=\u001b[39;49m\u001b[43mrequest\u001b[49m\u001b[38;5;241;43m.\u001b[39;49m\u001b[43mbody\u001b[49m\u001b[43m,\u001b[49m\n\u001b[1;32m    493\u001b[0m \u001b[43m        \u001b[49m\u001b[43mheaders\u001b[49m\u001b[38;5;241;43m=\u001b[39;49m\u001b[43mrequest\u001b[49m\u001b[38;5;241;43m.\u001b[39;49m\u001b[43mheaders\u001b[49m\u001b[43m,\u001b[49m\n\u001b[1;32m    494\u001b[0m \u001b[43m        \u001b[49m\u001b[43mredirect\u001b[49m\u001b[38;5;241;43m=\u001b[39;49m\u001b[38;5;28;43;01mFalse\u001b[39;49;00m\u001b[43m,\u001b[49m\n\u001b[1;32m    495\u001b[0m \u001b[43m        \u001b[49m\u001b[43massert_same_host\u001b[49m\u001b[38;5;241;43m=\u001b[39;49m\u001b[38;5;28;43;01mFalse\u001b[39;49;00m\u001b[43m,\u001b[49m\n\u001b[1;32m    496\u001b[0m \u001b[43m        \u001b[49m\u001b[43mpreload_content\u001b[49m\u001b[38;5;241;43m=\u001b[39;49m\u001b[38;5;28;43;01mFalse\u001b[39;49;00m\u001b[43m,\u001b[49m\n\u001b[1;32m    497\u001b[0m \u001b[43m        \u001b[49m\u001b[43mdecode_content\u001b[49m\u001b[38;5;241;43m=\u001b[39;49m\u001b[38;5;28;43;01mFalse\u001b[39;49;00m\u001b[43m,\u001b[49m\n\u001b[1;32m    498\u001b[0m \u001b[43m        \u001b[49m\u001b[43mretries\u001b[49m\u001b[38;5;241;43m=\u001b[39;49m\u001b[38;5;28;43mself\u001b[39;49m\u001b[38;5;241;43m.\u001b[39;49m\u001b[43mmax_retries\u001b[49m\u001b[43m,\u001b[49m\n\u001b[1;32m    499\u001b[0m \u001b[43m        \u001b[49m\u001b[43mtimeout\u001b[49m\u001b[38;5;241;43m=\u001b[39;49m\u001b[43mtimeout\u001b[49m\u001b[43m,\u001b[49m\n\u001b[1;32m    500\u001b[0m \u001b[43m    \u001b[49m\u001b[43m)\u001b[49m\n\u001b[1;32m    502\u001b[0m \u001b[38;5;66;03m# Send the request.\u001b[39;00m\n\u001b[1;32m    503\u001b[0m \u001b[38;5;28;01melse\u001b[39;00m:\n",
      "File \u001b[0;32m/usr/lib/python3/dist-packages/urllib3/connectionpool.py:719\u001b[0m, in \u001b[0;36mHTTPConnectionPool.urlopen\u001b[0;34m(self, method, url, body, headers, retries, redirect, assert_same_host, timeout, pool_timeout, release_conn, chunked, body_pos, **response_kw)\u001b[0m\n\u001b[1;32m    717\u001b[0m     e \u001b[38;5;241m=\u001b[39m ProtocolError(\u001b[38;5;124m\"\u001b[39m\u001b[38;5;124mConnection aborted.\u001b[39m\u001b[38;5;124m\"\u001b[39m, e)\n\u001b[0;32m--> 719\u001b[0m retries \u001b[38;5;241m=\u001b[39m \u001b[43mretries\u001b[49m\u001b[38;5;241;43m.\u001b[39;49m\u001b[43mincrement\u001b[49m\u001b[43m(\u001b[49m\n\u001b[1;32m    720\u001b[0m \u001b[43m    \u001b[49m\u001b[43mmethod\u001b[49m\u001b[43m,\u001b[49m\u001b[43m \u001b[49m\u001b[43murl\u001b[49m\u001b[43m,\u001b[49m\u001b[43m \u001b[49m\u001b[43merror\u001b[49m\u001b[38;5;241;43m=\u001b[39;49m\u001b[43me\u001b[49m\u001b[43m,\u001b[49m\u001b[43m \u001b[49m\u001b[43m_pool\u001b[49m\u001b[38;5;241;43m=\u001b[39;49m\u001b[38;5;28;43mself\u001b[39;49m\u001b[43m,\u001b[49m\u001b[43m \u001b[49m\u001b[43m_stacktrace\u001b[49m\u001b[38;5;241;43m=\u001b[39;49m\u001b[43msys\u001b[49m\u001b[38;5;241;43m.\u001b[39;49m\u001b[43mexc_info\u001b[49m\u001b[43m(\u001b[49m\u001b[43m)\u001b[49m\u001b[43m[\u001b[49m\u001b[38;5;241;43m2\u001b[39;49m\u001b[43m]\u001b[49m\n\u001b[1;32m    721\u001b[0m \u001b[43m\u001b[49m\u001b[43m)\u001b[49m\n\u001b[1;32m    722\u001b[0m retries\u001b[38;5;241m.\u001b[39msleep()\n",
      "File \u001b[0;32m/usr/lib/python3/dist-packages/urllib3/util/retry.py:436\u001b[0m, in \u001b[0;36mRetry.increment\u001b[0;34m(self, method, url, response, error, _pool, _stacktrace)\u001b[0m\n\u001b[1;32m    435\u001b[0m \u001b[38;5;28;01mif\u001b[39;00m new_retry\u001b[38;5;241m.\u001b[39mis_exhausted():\n\u001b[0;32m--> 436\u001b[0m     \u001b[38;5;28;01mraise\u001b[39;00m MaxRetryError(_pool, url, error \u001b[38;5;129;01mor\u001b[39;00m ResponseError(cause))\n\u001b[1;32m    438\u001b[0m log\u001b[38;5;241m.\u001b[39mdebug(\u001b[38;5;124m\"\u001b[39m\u001b[38;5;124mIncremented Retry for (url=\u001b[39m\u001b[38;5;124m'\u001b[39m\u001b[38;5;132;01m%s\u001b[39;00m\u001b[38;5;124m'\u001b[39m\u001b[38;5;124m): \u001b[39m\u001b[38;5;132;01m%r\u001b[39;00m\u001b[38;5;124m\"\u001b[39m, url, new_retry)\n",
      "\u001b[0;31mMaxRetryError\u001b[0m: HTTPSConnectionPool(host='127.0.0.1', port=9944): Max retries exceeded with url: / (Caused by SSLError(SSLEOFError(8, 'EOF occurred in violation of protocol (_ssl.c:1131)')))",
      "\nDuring handling of the above exception, another exception occurred:\n",
      "\u001b[0;31mSSLError\u001b[0m                                  Traceback (most recent call last)",
      "Cell \u001b[0;32mIn [4], line 1\u001b[0m\n\u001b[0;32m----> 1\u001b[0m \u001b[43mmake_call\u001b[49m\u001b[43m(\u001b[49m\u001b[38;5;124;43m\"\u001b[39;49m\u001b[38;5;124;43mMsa\u001b[39;49m\u001b[38;5;124;43m\"\u001b[39;49m\u001b[43m,\u001b[49m\u001b[43m \u001b[49m\u001b[38;5;124;43m\"\u001b[39;49m\u001b[38;5;124;43mcreate\u001b[39;49m\u001b[38;5;124;43m\"\u001b[39;49m\u001b[43m,\u001b[49m\u001b[43m \u001b[49m\u001b[43m{\u001b[49m\u001b[43m}\u001b[49m\u001b[43m,\u001b[49m\u001b[43m \u001b[49m\u001b[43malice\u001b[49m\u001b[43m)\u001b[49m\n\u001b[1;32m      2\u001b[0m make_call(\u001b[38;5;124m\"\u001b[39m\u001b[38;5;124mMsa\u001b[39m\u001b[38;5;124m\"\u001b[39m, \u001b[38;5;124m\"\u001b[39m\u001b[38;5;124mcreate\u001b[39m\u001b[38;5;124m\"\u001b[39m, {}, bob)\n",
      "Cell \u001b[0;32mIn [2], line 3\u001b[0m, in \u001b[0;36mmake_call\u001b[0;34m(call_module, call_function, call_params, keypair, wait_for_inclusion, wait_for_finalization)\u001b[0m\n\u001b[1;32m      2\u001b[0m \u001b[38;5;28;01mdef\u001b[39;00m \u001b[38;5;21mmake_call\u001b[39m(call_module, call_function, call_params, keypair, wait_for_inclusion \u001b[38;5;241m=\u001b[39m \u001b[38;5;28;01mTrue\u001b[39;00m, wait_for_finalization \u001b[38;5;241m=\u001b[39m \u001b[38;5;28;01mFalse\u001b[39;00m):\n\u001b[0;32m----> 3\u001b[0m     call \u001b[38;5;241m=\u001b[39m \u001b[43msubstrate\u001b[49m\u001b[38;5;241;43m.\u001b[39;49m\u001b[43mcompose_call\u001b[49m\u001b[43m(\u001b[49m\n\u001b[1;32m      4\u001b[0m \u001b[43m        \u001b[49m\u001b[43mcall_module\u001b[49m\u001b[38;5;241;43m=\u001b[39;49m\u001b[43mcall_module\u001b[49m\u001b[43m,\u001b[49m\n\u001b[1;32m      5\u001b[0m \u001b[43m        \u001b[49m\u001b[43mcall_function\u001b[49m\u001b[38;5;241;43m=\u001b[39;49m\u001b[43mcall_function\u001b[49m\u001b[43m,\u001b[49m\n\u001b[1;32m      6\u001b[0m \u001b[43m        \u001b[49m\u001b[43mcall_params\u001b[49m\u001b[38;5;241;43m=\u001b[39;49m\u001b[43mcall_params\u001b[49m\n\u001b[1;32m      7\u001b[0m \u001b[43m    \u001b[49m\u001b[43m)\u001b[49m\n\u001b[1;32m      9\u001b[0m     extrinsic \u001b[38;5;241m=\u001b[39m substrate\u001b[38;5;241m.\u001b[39mcreate_signed_extrinsic(call\u001b[38;5;241m=\u001b[39mcall, keypair\u001b[38;5;241m=\u001b[39mkeypair)\n\u001b[1;32m     11\u001b[0m     \u001b[38;5;28;01mtry\u001b[39;00m:\n",
      "File \u001b[0;32m~/.local/lib/python3.8/site-packages/substrateinterface/base.py:1612\u001b[0m, in \u001b[0;36mSubstrateInterface.compose_call\u001b[0;34m(self, call_module, call_function, call_params, block_hash)\u001b[0m\n\u001b[1;32m   1609\u001b[0m \u001b[38;5;28;01mif\u001b[39;00m call_params \u001b[38;5;129;01mis\u001b[39;00m \u001b[38;5;28;01mNone\u001b[39;00m:\n\u001b[1;32m   1610\u001b[0m     call_params \u001b[38;5;241m=\u001b[39m {}\n\u001b[0;32m-> 1612\u001b[0m \u001b[38;5;28;43mself\u001b[39;49m\u001b[38;5;241;43m.\u001b[39;49m\u001b[43minit_runtime\u001b[49m\u001b[43m(\u001b[49m\u001b[43mblock_hash\u001b[49m\u001b[38;5;241;43m=\u001b[39;49m\u001b[43mblock_hash\u001b[49m\u001b[43m)\u001b[49m\n\u001b[1;32m   1614\u001b[0m call \u001b[38;5;241m=\u001b[39m \u001b[38;5;28mself\u001b[39m\u001b[38;5;241m.\u001b[39mruntime_config\u001b[38;5;241m.\u001b[39mcreate_scale_object(\n\u001b[1;32m   1615\u001b[0m     type_string\u001b[38;5;241m=\u001b[39m\u001b[38;5;124m'\u001b[39m\u001b[38;5;124mCall\u001b[39m\u001b[38;5;124m'\u001b[39m, metadata\u001b[38;5;241m=\u001b[39m\u001b[38;5;28mself\u001b[39m\u001b[38;5;241m.\u001b[39mmetadata_decoder\n\u001b[1;32m   1616\u001b[0m )\n\u001b[1;32m   1618\u001b[0m call\u001b[38;5;241m.\u001b[39mencode({\n\u001b[1;32m   1619\u001b[0m     \u001b[38;5;124m'\u001b[39m\u001b[38;5;124mcall_module\u001b[39m\u001b[38;5;124m'\u001b[39m: call_module,\n\u001b[1;32m   1620\u001b[0m     \u001b[38;5;124m'\u001b[39m\u001b[38;5;124mcall_function\u001b[39m\u001b[38;5;124m'\u001b[39m: call_function,\n\u001b[1;32m   1621\u001b[0m     \u001b[38;5;124m'\u001b[39m\u001b[38;5;124mcall_args\u001b[39m\u001b[38;5;124m'\u001b[39m: call_params\n\u001b[1;32m   1622\u001b[0m })\n",
      "File \u001b[0;32m~/.local/lib/python3.8/site-packages/substrateinterface/base.py:1093\u001b[0m, in \u001b[0;36mSubstrateInterface.init_runtime\u001b[0;34m(self, block_hash, block_id)\u001b[0m\n\u001b[1;32m   1090\u001b[0m     block_hash \u001b[38;5;241m=\u001b[39m \u001b[38;5;28mself\u001b[39m\u001b[38;5;241m.\u001b[39mget_block_hash(block_id)\n\u001b[1;32m   1092\u001b[0m \u001b[38;5;28;01mif\u001b[39;00m \u001b[38;5;129;01mnot\u001b[39;00m block_hash:\n\u001b[0;32m-> 1093\u001b[0m     block_hash \u001b[38;5;241m=\u001b[39m \u001b[38;5;28;43mself\u001b[39;49m\u001b[38;5;241;43m.\u001b[39;49m\u001b[43mget_chain_head\u001b[49m\u001b[43m(\u001b[49m\u001b[43m)\u001b[49m\n\u001b[1;32m   1095\u001b[0m \u001b[38;5;28mself\u001b[39m\u001b[38;5;241m.\u001b[39mblock_hash \u001b[38;5;241m=\u001b[39m block_hash\n\u001b[1;32m   1096\u001b[0m \u001b[38;5;28mself\u001b[39m\u001b[38;5;241m.\u001b[39mblock_id \u001b[38;5;241m=\u001b[39m block_id\n",
      "File \u001b[0;32m~/.local/lib/python3.8/site-packages/substrateinterface/base.py:797\u001b[0m, in \u001b[0;36mSubstrateInterface.get_chain_head\u001b[0;34m(self)\u001b[0m\n\u001b[1;32m    789\u001b[0m \u001b[38;5;28;01mdef\u001b[39;00m \u001b[38;5;21mget_chain_head\u001b[39m(\u001b[38;5;28mself\u001b[39m):\n\u001b[1;32m    790\u001b[0m     \u001b[38;5;124;03m\"\"\"\u001b[39;00m\n\u001b[1;32m    791\u001b[0m \u001b[38;5;124;03m    A pass-though to existing JSONRPC method `chain_getHead`\u001b[39;00m\n\u001b[1;32m    792\u001b[0m \n\u001b[0;32m   (...)\u001b[0m\n\u001b[1;32m    795\u001b[0m \n\u001b[1;32m    796\u001b[0m \u001b[38;5;124;03m    \"\"\"\u001b[39;00m\n\u001b[0;32m--> 797\u001b[0m     response \u001b[38;5;241m=\u001b[39m \u001b[38;5;28;43mself\u001b[39;49m\u001b[38;5;241;43m.\u001b[39;49m\u001b[43mrpc_request\u001b[49m\u001b[43m(\u001b[49m\u001b[38;5;124;43m\"\u001b[39;49m\u001b[38;5;124;43mchain_getHead\u001b[39;49m\u001b[38;5;124;43m\"\u001b[39;49m\u001b[43m,\u001b[49m\u001b[43m \u001b[49m\u001b[43m[\u001b[49m\u001b[43m]\u001b[49m\u001b[43m)\u001b[49m\n\u001b[1;32m    799\u001b[0m     \u001b[38;5;28;01mif\u001b[39;00m response \u001b[38;5;129;01mis\u001b[39;00m \u001b[38;5;129;01mnot\u001b[39;00m \u001b[38;5;28;01mNone\u001b[39;00m:\n\u001b[1;32m    800\u001b[0m         \u001b[38;5;28;01mif\u001b[39;00m \u001b[38;5;124m'\u001b[39m\u001b[38;5;124merror\u001b[39m\u001b[38;5;124m'\u001b[39m \u001b[38;5;129;01min\u001b[39;00m response:\n",
      "File \u001b[0;32m~/.local/lib/python3.8/site-packages/substrateinterface/base.py:700\u001b[0m, in \u001b[0;36mSubstrateInterface.rpc_request\u001b[0;34m(self, method, params, result_handler)\u001b[0m\n\u001b[1;32m    697\u001b[0m \u001b[38;5;28;01mif\u001b[39;00m result_handler:\n\u001b[1;32m    698\u001b[0m     \u001b[38;5;28;01mraise\u001b[39;00m ConfigurationError(\u001b[38;5;124m\"\u001b[39m\u001b[38;5;124mResult handlers only available for websockets (ws://) connections\u001b[39m\u001b[38;5;124m\"\u001b[39m)\n\u001b[0;32m--> 700\u001b[0m response \u001b[38;5;241m=\u001b[39m \u001b[38;5;28;43mself\u001b[39;49m\u001b[38;5;241;43m.\u001b[39;49m\u001b[43msession\u001b[49m\u001b[38;5;241;43m.\u001b[39;49m\u001b[43mrequest\u001b[49m\u001b[43m(\u001b[49m\u001b[38;5;124;43m\"\u001b[39;49m\u001b[38;5;124;43mPOST\u001b[39;49m\u001b[38;5;124;43m\"\u001b[39;49m\u001b[43m,\u001b[49m\u001b[43m \u001b[49m\u001b[38;5;28;43mself\u001b[39;49m\u001b[38;5;241;43m.\u001b[39;49m\u001b[43murl\u001b[49m\u001b[43m,\u001b[49m\u001b[43m \u001b[49m\u001b[43mdata\u001b[49m\u001b[38;5;241;43m=\u001b[39;49m\u001b[43mjson\u001b[49m\u001b[38;5;241;43m.\u001b[39;49m\u001b[43mdumps\u001b[49m\u001b[43m(\u001b[49m\u001b[43mpayload\u001b[49m\u001b[43m)\u001b[49m\u001b[43m,\u001b[49m\u001b[43m \u001b[49m\u001b[43mheaders\u001b[49m\u001b[38;5;241;43m=\u001b[39;49m\u001b[38;5;28;43mself\u001b[39;49m\u001b[38;5;241;43m.\u001b[39;49m\u001b[43mdefault_headers\u001b[49m\u001b[43m)\u001b[49m\n\u001b[1;32m    702\u001b[0m \u001b[38;5;28;01mif\u001b[39;00m response\u001b[38;5;241m.\u001b[39mstatus_code \u001b[38;5;241m!=\u001b[39m \u001b[38;5;241m200\u001b[39m:\n\u001b[1;32m    703\u001b[0m     \u001b[38;5;28;01mraise\u001b[39;00m SubstrateRequestException(\n\u001b[1;32m    704\u001b[0m         \u001b[38;5;124m\"\u001b[39m\u001b[38;5;124mRPC request failed with HTTP status code \u001b[39m\u001b[38;5;132;01m{}\u001b[39;00m\u001b[38;5;124m\"\u001b[39m\u001b[38;5;241m.\u001b[39mformat(response\u001b[38;5;241m.\u001b[39mstatus_code))\n",
      "File \u001b[0;32m~/.local/lib/python3.8/site-packages/requests/sessions.py:587\u001b[0m, in \u001b[0;36mSession.request\u001b[0;34m(self, method, url, params, data, headers, cookies, files, auth, timeout, allow_redirects, proxies, hooks, stream, verify, cert, json)\u001b[0m\n\u001b[1;32m    582\u001b[0m send_kwargs \u001b[38;5;241m=\u001b[39m {\n\u001b[1;32m    583\u001b[0m     \u001b[38;5;124m\"\u001b[39m\u001b[38;5;124mtimeout\u001b[39m\u001b[38;5;124m\"\u001b[39m: timeout,\n\u001b[1;32m    584\u001b[0m     \u001b[38;5;124m\"\u001b[39m\u001b[38;5;124mallow_redirects\u001b[39m\u001b[38;5;124m\"\u001b[39m: allow_redirects,\n\u001b[1;32m    585\u001b[0m }\n\u001b[1;32m    586\u001b[0m send_kwargs\u001b[38;5;241m.\u001b[39mupdate(settings)\n\u001b[0;32m--> 587\u001b[0m resp \u001b[38;5;241m=\u001b[39m \u001b[38;5;28;43mself\u001b[39;49m\u001b[38;5;241;43m.\u001b[39;49m\u001b[43msend\u001b[49m\u001b[43m(\u001b[49m\u001b[43mprep\u001b[49m\u001b[43m,\u001b[49m\u001b[43m \u001b[49m\u001b[38;5;241;43m*\u001b[39;49m\u001b[38;5;241;43m*\u001b[39;49m\u001b[43msend_kwargs\u001b[49m\u001b[43m)\u001b[49m\n\u001b[1;32m    589\u001b[0m \u001b[38;5;28;01mreturn\u001b[39;00m resp\n",
      "File \u001b[0;32m~/.local/lib/python3.8/site-packages/requests/sessions.py:701\u001b[0m, in \u001b[0;36mSession.send\u001b[0;34m(self, request, **kwargs)\u001b[0m\n\u001b[1;32m    698\u001b[0m start \u001b[38;5;241m=\u001b[39m preferred_clock()\n\u001b[1;32m    700\u001b[0m \u001b[38;5;66;03m# Send the request\u001b[39;00m\n\u001b[0;32m--> 701\u001b[0m r \u001b[38;5;241m=\u001b[39m \u001b[43madapter\u001b[49m\u001b[38;5;241;43m.\u001b[39;49m\u001b[43msend\u001b[49m\u001b[43m(\u001b[49m\u001b[43mrequest\u001b[49m\u001b[43m,\u001b[49m\u001b[43m \u001b[49m\u001b[38;5;241;43m*\u001b[39;49m\u001b[38;5;241;43m*\u001b[39;49m\u001b[43mkwargs\u001b[49m\u001b[43m)\u001b[49m\n\u001b[1;32m    703\u001b[0m \u001b[38;5;66;03m# Total elapsed time of the request (approximately)\u001b[39;00m\n\u001b[1;32m    704\u001b[0m elapsed \u001b[38;5;241m=\u001b[39m preferred_clock() \u001b[38;5;241m-\u001b[39m start\n",
      "File \u001b[0;32m~/.local/lib/python3.8/site-packages/requests/adapters.py:563\u001b[0m, in \u001b[0;36mHTTPAdapter.send\u001b[0;34m(self, request, stream, timeout, verify, cert, proxies)\u001b[0m\n\u001b[1;32m    559\u001b[0m         \u001b[38;5;28;01mraise\u001b[39;00m ProxyError(e, request\u001b[38;5;241m=\u001b[39mrequest)\n\u001b[1;32m    561\u001b[0m     \u001b[38;5;28;01mif\u001b[39;00m \u001b[38;5;28misinstance\u001b[39m(e\u001b[38;5;241m.\u001b[39mreason, _SSLError):\n\u001b[1;32m    562\u001b[0m         \u001b[38;5;66;03m# This branch is for urllib3 v1.22 and later.\u001b[39;00m\n\u001b[0;32m--> 563\u001b[0m         \u001b[38;5;28;01mraise\u001b[39;00m SSLError(e, request\u001b[38;5;241m=\u001b[39mrequest)\n\u001b[1;32m    565\u001b[0m     \u001b[38;5;28;01mraise\u001b[39;00m \u001b[38;5;167;01mConnectionError\u001b[39;00m(e, request\u001b[38;5;241m=\u001b[39mrequest)\n\u001b[1;32m    567\u001b[0m \u001b[38;5;28;01mexcept\u001b[39;00m ClosedPoolError \u001b[38;5;28;01mas\u001b[39;00m e:\n",
      "\u001b[0;31mSSLError\u001b[0m: HTTPSConnectionPool(host='127.0.0.1', port=9944): Max retries exceeded with url: / (Caused by SSLError(SSLEOFError(8, 'EOF occurred in violation of protocol (_ssl.c:1131)')))"
     ]
    }
   ],
   "source": [
    "make_call(\"Msa\", \"create\", {}, alice)\n",
    "make_call(\"Msa\", \"create\", {}, bob)"
   ]
  },
  {
   "cell_type": "markdown",
   "id": "d4519586",
   "metadata": {},
   "source": [
    "# Create MSA for brand new account\n",
    "Use this when user wants control of thier keys and will pay for their own transactions"
   ]
  },
  {
   "cell_type": "code",
   "execution_count": null,
   "id": "de72ec2b",
   "metadata": {},
   "outputs": [],
   "source": [
    "# Create never before used wallet\n",
    "new_wallet = Keypair.create_from_uri('//ChangeThisNamefgnf', crypto_type=substrateinterface.KeypairType.SR25519)"
   ]
  },
  {
   "cell_type": "code",
   "execution_count": null,
   "id": "f8a833ef",
   "metadata": {},
   "outputs": [],
   "source": [
    "# Give wallet some tokens to it can make MSA\n",
    "# Must be at least 1 unit\n",
    "one_unit = 1000000000000\n",
    "receipt = make_call(\"Balances\", \"transfer\", {\"dest\": new_wallet.ss58_address, \"value\": 10 * one_unit}, alice)\n",
    "receipt.error_message"
   ]
  },
  {
   "cell_type": "code",
   "execution_count": null,
   "id": "b62af09a",
   "metadata": {},
   "outputs": [],
   "source": [
    "def get_msa_id(wallet):\n",
    "    msa_key = substrate.query(\n",
    "        module='Msa',\n",
    "        storage_function='KeyInfoOf',\n",
    "        params=[wallet.ss58_address]\n",
    "    )\n",
    "\n",
    "    if msa_key == None:\n",
    "        make_call(\"Msa\", \"create\", {}, wallet)\n",
    "        msa_key = substrate.query(\n",
    "            module='Msa',\n",
    "            storage_function='KeyInfoOf',\n",
    "            params=[wallet.ss58_address]\n",
    "        )\n",
    "\n",
    "    msa_id = msa_key['msa_id'].decode()\n",
    "    return msa_id"
   ]
  },
  {
   "cell_type": "code",
   "execution_count": null,
   "id": "4ef7c3ad",
   "metadata": {},
   "outputs": [],
   "source": [
    "msa_id = get_msa_id(new_wallet)"
   ]
  },
  {
   "cell_type": "markdown",
   "id": "d9b30b6f",
   "metadata": {},
   "source": [
    "## Delegate MSA to a provider"
   ]
  },
  {
   "cell_type": "code",
   "execution_count": null,
   "id": "8be029a8",
   "metadata": {},
   "outputs": [],
   "source": [
    "payload_raw = { \"authorized_msa_id\": msa_id, \"permission\": 0 }"
   ]
  },
  {
   "cell_type": "code",
   "execution_count": null,
   "id": "8fd1a0bd",
   "metadata": {},
   "outputs": [],
   "source": [
    "def get_signature(payload, signer):\n",
    "    # encode payload using SCALE\n",
    "    # I found scale_info from \"substrate.metadata_decoder\"\n",
    "    payload_encoded = substrate.encode_scale(type_string='scale_info::8', value=payload['authorized_msa_id']) + \\\n",
    "                            substrate.encode_scale(type_string='scale_info::2', value=payload['permission'])\n",
    "\n",
    "    # Payload must be wrapped in theses Bytes objects\n",
    "    payload_encoded = \"<Bytes>\".encode() + payload_encoded.data + \"</Bytes>\".encode()\n",
    "\n",
    "    # The provider address signs the payload, so in this case alice\n",
    "    return signer.sign(payload_encoded)"
   ]
  },
  {
   "cell_type": "code",
   "execution_count": null,
   "id": "982ac3ca",
   "metadata": {},
   "outputs": [],
   "source": [
    "signature = get_signature(payload_raw, alice)"
   ]
  },
  {
   "cell_type": "code",
   "execution_count": null,
   "id": "81571b05",
   "metadata": {},
   "outputs": [],
   "source": [
    "# parameters for call function\n",
    "call_params = {\n",
    "    \"provider_key\": alice.ss58_address,\n",
    "    \"proof\": {\"Sr25519\": \"0x\" + signature.hex()},\n",
    "    \"add_provider_payload\": payload_raw\n",
    "}\n",
    "\n",
    "receipt = make_call(\"Msa\", \"add_provider_to_msa\", call_params, new_wallet)\n",
    "print(receipt.error_message)"
   ]
  },
  {
   "cell_type": "markdown",
   "id": "92594f7d",
   "metadata": {},
   "source": [
    "# Following code is run instead of above if user doesn't want control of keys and allows provider to pay for transactions"
   ]
  },
  {
   "cell_type": "code",
   "execution_count": null,
   "id": "c1f6ee00",
   "metadata": {},
   "outputs": [],
   "source": [
    "# Create never before used wallet\n",
    "new_wallet = Keypair.create_from_uri('//sdvsbsdfghdfdvsvs', crypto_type=substrateinterface.KeypairType.SR25519)"
   ]
  },
  {
   "cell_type": "code",
   "execution_count": null,
   "id": "83f36894",
   "metadata": {},
   "outputs": [],
   "source": [
    "# get provider msa id, so alice in this case\n",
    "provider_msa_id = get_msa_id(alice)"
   ]
  },
  {
   "cell_type": "code",
   "execution_count": null,
   "id": "a50e6bfc",
   "metadata": {},
   "outputs": [],
   "source": [
    "payload_raw = { \"authorized_msa_id\": provider_msa_id, \"permission\": 0 }\n",
    "\n",
    "# This time new_wallet signs payload and therefore doesn't need to pay any gas\n",
    "signature = get_signature(payload_raw, new_wallet)"
   ]
  },
  {
   "cell_type": "code",
   "execution_count": null,
   "id": "dcf58ffc",
   "metadata": {},
   "outputs": [],
   "source": [
    "call_params = {\n",
    "    \"delegator_key\": new_wallet.ss58_address,\n",
    "    \"proof\": {\"Sr25519\": \"0x\" + signature.hex()},\n",
    "    \"add_provider_payload\": payload_raw\n",
    "}\n",
    "\n",
    "# provider signs this\n",
    "receipt = make_call(\"Msa\", \"create_sponsored_account_with_delegation\", call_params, alice)\n",
    "print(receipt.error_message)"
   ]
  },
  {
   "cell_type": "code",
   "execution_count": null,
   "id": "546d5119",
   "metadata": {},
   "outputs": [],
   "source": [
    "wallets_msa_id = get_msa_id(new_wallet)"
   ]
  },
  {
   "cell_type": "markdown",
   "id": "333383dd",
   "metadata": {},
   "source": [
    "# Create Schema and add Messages"
   ]
  },
  {
   "cell_type": "code",
   "execution_count": null,
   "id": "4c6cb89c",
   "metadata": {
    "scrolled": true
   },
   "outputs": [],
   "source": [
    "# define schema and then check if it exists already, if not, then mint it\n",
    "# We will probably turn schema check into api call to save time\n",
    "\n",
    "schema = \"subreddit,author,title,selftext,url,is_nsfw,dsvs\"\n",
    "\n",
    "schema_count = substrate.query(\n",
    "    module='Schemas',\n",
    "    storage_function='SchemaCount',\n",
    "    params=[]\n",
    ").value\n",
    "\n",
    "schemaId = -1\n",
    "for i in range(1, schema_count+1):\n",
    "    schemaTemp = substrate.query(\n",
    "        module='Schemas',\n",
    "        storage_function='Schemas',\n",
    "        params=[i]\n",
    "    )\n",
    "    if schemaTemp == schema:\n",
    "        schemaId = i\n",
    "        print(schemaTemp.value)\n",
    "        break\n",
    "    \n",
    "if schemaId == -1:\n",
    "    receipt = make_call(\"Schemas\", \"register_schema\", {\"schema\": schema}, alice)\n",
    "    for event in receipt.triggered_events:\n",
    "        event = event.decode()\n",
    "        if event['event']['event_id'] == 'SchemaRegistered':\n",
    "            schemaId = event['event']['attributes'][1]\n",
    "\n",
    "print(schemaId)"
   ]
  },
  {
   "cell_type": "code",
   "execution_count": null,
   "id": "a807e618",
   "metadata": {
    "scrolled": true
   },
   "outputs": [],
   "source": [
    "substrate.query(\n",
    "    module='Balances',\n",
    "    storage_function='Account',\n",
    "    params=[new_wallet.ss58_address]\n",
    ")"
   ]
  },
  {
   "cell_type": "code",
   "execution_count": null,
   "id": "7c783db1",
   "metadata": {
    "scrolled": true
   },
   "outputs": [],
   "source": [
    "message = \"AskReddit,LazarShockX,What are some good ice breaker questions?,,https://www.reddit.com/r/AskReddit/comments/v5ihpk/what_are_some_good_ice_breaker_questions/,False\"\n",
    "\n",
    "call_params = {\n",
    "    \"on_behalf_of\": wallets_msa_id,\n",
    "    \"schema_id\": schemaId,\n",
    "    \"message\": message\n",
    "}\n",
    "receipt = make_call(\"Messages\", \"add\", call_params, alice, wait_for_inclusion=True)\n",
    "wallets_msa_id\n",
    "\n",
    "# result = substrate.subscribe_block_headers(subscription_handler)"
   ]
  },
  {
   "cell_type": "code",
   "execution_count": null,
   "id": "587b0a51",
   "metadata": {
    "scrolled": true
   },
   "outputs": [],
   "source": [
    "receipt.triggered_events"
   ]
  },
  {
   "cell_type": "markdown",
   "id": "0bcccacd",
   "metadata": {},
   "source": [
    "# Query data\n",
    "The following use substrate's rpc_request function to call rpc methods that are implemented for the pallets\n",
    "This doesn't seem to be implemented by the polkadot or substrate frontends so some code might need to be changed"
   ]
  },
  {
   "cell_type": "code",
   "execution_count": null,
   "id": "6dbdbe3f",
   "metadata": {},
   "outputs": [],
   "source": [
    "substrate.get_block()['header']['number']"
   ]
  },
  {
   "cell_type": "code",
   "execution_count": null,
   "id": "6c098e9d",
   "metadata": {
    "scrolled": true
   },
   "outputs": [],
   "source": [
    "params = [\n",
    "    schemaId,\n",
    "    {\n",
    "        \"page_size\": 10000,\n",
    "        \"from_block\": 0,\n",
    "        \"to_block\": 10000,\n",
    "        \"from_index\": 1,\n",
    "    }\n",
    "]\n",
    "\n",
    "data = substrate.rpc_request(\n",
    "    method='messages_getBySchema',\n",
    "    params=params,\n",
    ")\n",
    "data"
   ]
  },
  {
   "cell_type": "code",
   "execution_count": null,
   "id": "ead313b9",
   "metadata": {},
   "outputs": [],
   "source": [
    "# data can be converted back to original string\n",
    "bytes.fromhex(data['result']['content'][0]['data'][2:]).decode()"
   ]
  },
  {
   "cell_type": "code",
   "execution_count": null,
   "id": "131a1b5c",
   "metadata": {},
   "outputs": [],
   "source": []
  },
  {
   "cell_type": "code",
   "execution_count": null,
   "id": "f4b14115",
   "metadata": {},
   "outputs": [],
   "source": [
    "provider_msa_id"
   ]
  },
  {
   "cell_type": "code",
   "execution_count": null,
   "id": "d3bae5e4",
   "metadata": {},
   "outputs": [],
   "source": [
    "alice.ss58_address"
   ]
  },
  {
   "cell_type": "code",
   "execution_count": null,
   "id": "6041fbae",
   "metadata": {},
   "outputs": [],
   "source": [
    "params = [1]\n",
    "\n",
    "substrate.rpc_request(\n",
    "    method='msa_getMsaKeys',\n",
    "    params=params,\n",
    ")"
   ]
  },
  {
   "cell_type": "code",
   "execution_count": null,
   "id": "56b448b9",
   "metadata": {},
   "outputs": [],
   "source": [
    "params = [alice.ss58_address]\n",
    "\n",
    "substrate.rpc_request(\n",
    "    method='msa_getMsaId',\n",
    "    params=params,\n",
    ")"
   ]
  },
  {
   "cell_type": "code",
   "execution_count": null,
   "id": "d8b8e88f",
   "metadata": {},
   "outputs": [],
   "source": [
    "params = [list(range(12)), 3]\n",
    "\n",
    "substrate.rpc_request(\n",
    "    method='msa_checkDelegations',\n",
    "    params=params,\n",
    ")"
   ]
  },
  {
   "cell_type": "code",
   "execution_count": null,
   "id": "12a2681e",
   "metadata": {},
   "outputs": [],
   "source": [
    "params = [2]\n",
    "\n",
    "substrate.rpc_request(\n",
    "    method='schemas_getBySchemaId',\n",
    "    params=params,\n",
    ")"
   ]
  },
  {
   "cell_type": "code",
   "execution_count": null,
   "id": "0822e96d",
   "metadata": {
    "scrolled": true
   },
   "outputs": [],
   "source": [
    "# params = [_,'subreddit,author,title,selftext,url,is_nsfw,dsvs'.encode().hex()]\n",
    "\n",
    "# substrate.rpc_request(\n",
    "#     method='schemas_checkSchemaValidity',\n",
    "#     params=params,\n",
    "# )"
   ]
  },
  {
   "cell_type": "code",
   "execution_count": null,
   "id": "3e3a48ff",
   "metadata": {},
   "outputs": [],
   "source": []
  },
  {
   "cell_type": "code",
   "execution_count": null,
   "id": "f4f17b20",
   "metadata": {},
   "outputs": [],
   "source": []
  },
  {
   "cell_type": "code",
   "execution_count": null,
   "id": "3ecb62a4",
   "metadata": {},
   "outputs": [],
   "source": []
  },
  {
   "cell_type": "code",
   "execution_count": null,
   "id": "e5c10fa0",
   "metadata": {},
   "outputs": [],
   "source": []
  },
  {
   "cell_type": "markdown",
   "id": "40051904",
   "metadata": {},
   "source": [
    "# Below is test code"
   ]
  },
  {
   "cell_type": "code",
   "execution_count": null,
   "id": "e6771d6f",
   "metadata": {
    "scrolled": true
   },
   "outputs": [],
   "source": [
    "def subscription_handler(obj, update_nr, subscription_id):\n",
    "\n",
    "    print(f\"New block #{obj['header']['number']} produced b\")\n",
    "    print(obj)\n",
    "\n",
    "    if update_nr > 10:\n",
    "        return {'message': 'Subscription will cancel when a value is returned', 'updates_processed': update_nr}\n",
    "\n",
    "\n",
    "# result = substrate.subscribe_block_headers?"
   ]
  },
  {
   "cell_type": "code",
   "execution_count": null,
   "id": "964f5951",
   "metadata": {
    "scrolled": true
   },
   "outputs": [],
   "source": [
    "t = substrate.get_block(substrate.get_block_hash(2662))"
   ]
  },
  {
   "cell_type": "code",
   "execution_count": null,
   "id": "05445ec0",
   "metadata": {},
   "outputs": [],
   "source": [
    "t = substrate.get_runtime_events(substrate.get_block_hash(2662))"
   ]
  },
  {
   "cell_type": "code",
   "execution_count": null,
   "id": "1a1a130a",
   "metadata": {},
   "outputs": [],
   "source": [
    "t['result'][0]"
   ]
  },
  {
   "cell_type": "code",
   "execution_count": null,
   "id": "31a54b4a",
   "metadata": {},
   "outputs": [],
   "source": [
    "t['result']"
   ]
  },
  {
   "cell_type": "code",
   "execution_count": null,
   "id": "e765c31a",
   "metadata": {},
   "outputs": [],
   "source": [
    "i = 0\n",
    "block_hash = substrate.get_block_hash(i)\n",
    "while (substrate.block_hash != block_hash):\n",
    "    for event in substrate.get_runtime_events(block_hash)['results']:\n",
    "        if event['event_id'] == 'MessagesStored':\n",
    "            \n",
    "    block_hash = substrate.get_block_hash(i)"
   ]
  },
  {
   "cell_type": "code",
   "execution_count": null,
   "id": "1f586ec1",
   "metadata": {},
   "outputs": [],
   "source": []
  },
  {
   "cell_type": "code",
   "execution_count": null,
   "id": "6feb4450",
   "metadata": {},
   "outputs": [],
   "source": [
    "substrate.query_map('System', 'Events', page_size=200, max_results=400)"
   ]
  },
  {
   "cell_type": "code",
   "execution_count": null,
   "id": "3b8caad2",
   "metadata": {},
   "outputs": [],
   "source": [
    "substrate.query(\n",
    "    module='System',\n",
    "    storage_function='Events',\n",
    "    params=[],\n",
    "    block_hash=substrate.get_block_hash(2)\n",
    ")"
   ]
  },
  {
   "cell_type": "code",
   "execution_count": null,
   "id": "9453a7bb",
   "metadata": {
    "scrolled": true
   },
   "outputs": [],
   "source": [
    "substrate.get_block(\"0x9dbe5e6b82ac046ddd30b1a3c99160f53a8380ca4b461c93b9335273d8b0a066\")"
   ]
  },
  {
   "cell_type": "code",
   "execution_count": null,
   "id": "3c51998b",
   "metadata": {},
   "outputs": [],
   "source": [
    "substrateinterface.utils.hasher.xxh128(\"Sudo\".encode()) + substrateinterface.utils.hasher.xxh128(\"Key\".encode())"
   ]
  },
  {
   "cell_type": "code",
   "execution_count": null,
   "id": "f12cb511",
   "metadata": {},
   "outputs": [],
   "source": [
    "substrate.rpc_request?"
   ]
  },
  {
   "cell_type": "code",
   "execution_count": null,
   "id": "82613a61",
   "metadata": {},
   "outputs": [],
   "source": [
    "provider_msa_id"
   ]
  },
  {
   "cell_type": "code",
   "execution_count": null,
   "id": "4d600e85",
   "metadata": {},
   "outputs": [],
   "source": [
    "schemaId"
   ]
  },
  {
   "cell_type": "code",
   "execution_count": null,
   "id": "d1e614b8",
   "metadata": {
    "scrolled": true
   },
   "outputs": [],
   "source": [
    "params = [\n",
    "    2,\n",
    "    {\n",
    "        \"page_size\": 10000,\n",
    "        \"from_block\": 0,\n",
    "        \"to_block\": 10000,\n",
    "        \"from_index\": 1,\n",
    "    }\n",
    "#     substrateinterface.utils.hasher.xxh128(\"Messages\".encode()) + substrateinterface.utils.hasher.xxh128(\"BlockMessages\".encode()),\n",
    "#     substrate.get_block_hash(2)\n",
    "]\n",
    "\n",
    "substrate.rpc_request(\n",
    "    method='messages_getBySchema',\n",
    "    params=params,\n",
    ")"
   ]
  },
  {
   "cell_type": "code",
   "execution_count": null,
   "id": "43b59131",
   "metadata": {},
   "outputs": [],
   "source": [
    "s"
   ]
  },
  {
   "cell_type": "code",
   "execution_count": null,
   "id": "22c9a7fe",
   "metadata": {},
   "outputs": [],
   "source": [
    "t = data['result']['content'][0]['data']"
   ]
  },
  {
   "cell_type": "code",
   "execution_count": null,
   "id": "0da4fab0",
   "metadata": {},
   "outputs": [],
   "source": [
    "bytes.fromhex(data['result']['content'][0]['data'][2:]).decode()"
   ]
  },
  {
   "cell_type": "code",
   "execution_count": null,
   "id": "b5559b2b",
   "metadata": {},
   "outputs": [],
   "source": [
    "bytes.fromhex(message.encode().hex()).decode()"
   ]
  },
  {
   "cell_type": "code",
   "execution_count": null,
   "id": "3f7213d8",
   "metadata": {},
   "outputs": [],
   "source": [
    "message.encode().hex()"
   ]
  },
  {
   "cell_type": "code",
   "execution_count": null,
   "id": "dc52fd74",
   "metadata": {
    "scrolled": true
   },
   "outputs": [],
   "source": [
    "substrate.chain"
   ]
  },
  {
   "cell_type": "code",
   "execution_count": null,
   "id": "a4a57aa7",
   "metadata": {},
   "outputs": [],
   "source": []
  },
  {
   "cell_type": "code",
   "execution_count": null,
   "id": "f4c3b446",
   "metadata": {},
   "outputs": [],
   "source": []
  }
 ],
 "metadata": {
  "kernelspec": {
   "display_name": "Python 3 (ipykernel)",
   "language": "python",
   "name": "python3"
  },
  "language_info": {
   "codemirror_mode": {
    "name": "ipython",
    "version": 3
   },
   "file_extension": ".py",
   "mimetype": "text/x-python",
   "name": "python",
   "nbconvert_exporter": "python",
   "pygments_lexer": "ipython3",
   "version": "3.8.10"
  },
  "vscode": {
   "interpreter": {
    "hash": "f90a51316803318f0b952c570a4fe32d53aa73ff3300e1da5777ab9e91b8249c"
   }
  }
 },
 "nbformat": 4,
 "nbformat_minor": 5
}
