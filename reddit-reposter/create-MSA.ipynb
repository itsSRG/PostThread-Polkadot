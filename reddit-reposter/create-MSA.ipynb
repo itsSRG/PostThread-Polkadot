{
 "cells": [
  {
   "cell_type": "code",
   "execution_count": 1,
   "id": "92f4e5b4",
   "metadata": {
    "scrolled": true
   },
   "outputs": [
    {
     "name": "stdout",
     "output_type": "stream",
     "text": [
      "Collecting substrate-interface\n",
      "  Downloading substrate_interface-1.3.2-py3-none-any.whl (186 kB)\n",
      "\u001b[K     |████████████████████████████████| 186 kB 739 kB/s eta 0:00:01\n",
      "\u001b[?25hRequirement already satisfied: websocket-client<2,>=0.57.0 in /home/srg/.local/lib/python3.8/site-packages (from substrate-interface) (1.4.1)\n",
      "Requirement already satisfied: idna<4,>=2.1.0 in /usr/lib/python3/dist-packages (from substrate-interface) (2.8)\n",
      "Requirement already satisfied: py-bip39-bindings<1,>=0.1.9 in /home/srg/.local/lib/python3.8/site-packages (from substrate-interface) (0.1.10)\n",
      "Collecting py-ed25519-zebra-bindings<2,>=1.0\n",
      "  Downloading py_ed25519_zebra_bindings-1.0.1-cp38-cp38-manylinux_2_17_x86_64.manylinux2014_x86_64.whl (1.1 MB)\n",
      "\u001b[K     |████████████████████████████████| 1.1 MB 1.2 MB/s eta 0:00:01\n",
      "\u001b[?25hRequirement already satisfied: base58<3,>=1.0.3 in /home/srg/.local/lib/python3.8/site-packages (from substrate-interface) (2.1.1)\n",
      "Requirement already satisfied: eth-utils<3,>=1.3.0 in /home/srg/.local/lib/python3.8/site-packages (from substrate-interface) (2.0.0)\n",
      "Requirement already satisfied: eth-keys<1,>=0.2.1 in /home/srg/.local/lib/python3.8/site-packages (from substrate-interface) (0.4.0)\n",
      "Requirement already satisfied: xxhash<4,>=1.3.0 in /home/srg/.local/lib/python3.8/site-packages (from substrate-interface) (2.0.2)\n",
      "Requirement already satisfied: pycryptodome<4,>=3.11.0 in /home/srg/.local/lib/python3.8/site-packages (from substrate-interface) (3.15.0)\n",
      "Requirement already satisfied: certifi>=2019.3.9 in /usr/lib/python3/dist-packages (from substrate-interface) (2019.11.28)\n",
      "Requirement already satisfied: py-sr25519-bindings<1,>=0.1.4 in /home/srg/.local/lib/python3.8/site-packages (from substrate-interface) (0.1.5)\n",
      "Requirement already satisfied: PyNaCl<2,>=1.0.1 in /usr/lib/python3/dist-packages (from substrate-interface) (1.3.0)\n",
      "Requirement already satisfied: ecdsa<1,>=0.17.0 in /home/srg/.local/lib/python3.8/site-packages (from substrate-interface) (0.18.0)\n",
      "Collecting scalecodec<2,>=1.0.43\n",
      "  Downloading scalecodec-1.0.43-py3-none-any.whl (90 kB)\n",
      "\u001b[K     |████████████████████████████████| 90 kB 625 kB/s eta 0:00:01\n",
      "\u001b[?25hRequirement already satisfied: requests<3,>=2.21.0 in /home/srg/.local/lib/python3.8/site-packages (from substrate-interface) (2.28.1)\n",
      "Requirement already satisfied: eth-typing<4.0.0,>=3.0.0 in /home/srg/.local/lib/python3.8/site-packages (from eth-utils<3,>=1.3.0->substrate-interface) (3.2.0)\n",
      "Requirement already satisfied: cytoolz<1.0.0,>=0.10.1; implementation_name == \"cpython\" in /home/srg/.local/lib/python3.8/site-packages (from eth-utils<3,>=1.3.0->substrate-interface) (0.12.0)\n",
      "Requirement already satisfied: eth-hash<0.4.0,>=0.3.1 in /home/srg/.local/lib/python3.8/site-packages (from eth-utils<3,>=1.3.0->substrate-interface) (0.3.3)\n",
      "Requirement already satisfied: six>=1.9.0 in /usr/lib/python3/dist-packages (from ecdsa<1,>=0.17.0->substrate-interface) (1.14.0)\n",
      "Requirement already satisfied: more-itertools in /usr/lib/python3/dist-packages (from scalecodec<2,>=1.0.43->substrate-interface) (4.2.0)\n",
      "Requirement already satisfied: charset-normalizer<3,>=2 in /home/srg/.local/lib/python3.8/site-packages (from requests<3,>=2.21.0->substrate-interface) (2.1.1)\n",
      "Requirement already satisfied: urllib3<1.27,>=1.21.1 in /usr/lib/python3/dist-packages (from requests<3,>=2.21.0->substrate-interface) (1.25.8)\n",
      "Requirement already satisfied: toolz>=0.8.0 in /home/srg/.local/lib/python3.8/site-packages (from cytoolz<1.0.0,>=0.10.1; implementation_name == \"cpython\"->eth-utils<3,>=1.3.0->substrate-interface) (0.12.0)\n",
      "Installing collected packages: py-ed25519-zebra-bindings, scalecodec, substrate-interface\n",
      "Successfully installed py-ed25519-zebra-bindings-1.0.1 scalecodec-1.0.43 substrate-interface-1.3.2\n"
     ]
    }
   ],
   "source": [
    "!pip install substrate-interface"
   ]
  },
  {
   "cell_type": "code",
   "execution_count": 2,
   "id": "d92f9d5b",
   "metadata": {},
   "outputs": [],
   "source": [
    "import os\n",
    "import contextlib"
   ]
  },
  {
   "cell_type": "code",
   "execution_count": 3,
   "id": "5c549a79",
   "metadata": {},
   "outputs": [],
   "source": [
    "import substrateinterface\n",
    "from substrateinterface import SubstrateInterface, Keypair\n",
    "from substrateinterface.exceptions import SubstrateRequestException\n",
    "\n",
    "substrate = SubstrateInterface(\n",
    "    url=\"https://127.0.0.1:9944\",\n",
    "    ss58_format=42,\n",
    "    type_registry_preset='kusama'\n",
    ")"
   ]
  },
  {
   "cell_type": "code",
   "execution_count": 4,
   "id": "b87aceb5",
   "metadata": {},
   "outputs": [],
   "source": [
    "# Function to make extrinsic calls\n",
    "def make_call(call_module, call_function, call_params, keypair):\n",
    "    call = substrate.compose_call(\n",
    "        call_module=call_module,\n",
    "        call_function=call_function,\n",
    "        call_params=call_params\n",
    "    )\n",
    "\n",
    "    extrinsic = substrate.create_signed_extrinsic(call=call, keypair=keypair)\n",
    "\n",
    "    try:\n",
    "        receipt = substrate.submit_extrinsic(extrinsic, wait_for_inclusion=True)\n",
    "        print(\"Extrinsic '{}' sent and included in block '{}'\".format(receipt.extrinsic_hash, receipt.block_hash))\n",
    "\n",
    "    except Exception as e:\n",
    "        print(\"Failed to send: {}\".format(e))\n",
    "    return receipt"
   ]
  },
  {
   "cell_type": "code",
   "execution_count": 5,
   "id": "1f9f2899",
   "metadata": {},
   "outputs": [],
   "source": [
    "alice = Keypair.create_from_uri('//Alice')\n",
    "bob = Keypair.create_from_uri('//Bob')"
   ]
  },
  {
   "cell_type": "code",
   "execution_count": 6,
   "id": "aadf8beb",
   "metadata": {
    "scrolled": true
   },
   "outputs": [
    {
     "ename": "KeyboardInterrupt",
     "evalue": "",
     "output_type": "error",
     "traceback": [
      "\u001b[0;31m---------------------------------------------------------------------------\u001b[0m",
      "\u001b[0;31mKeyboardInterrupt\u001b[0m                         Traceback (most recent call last)",
      "Cell \u001b[0;32mIn [6], line 1\u001b[0m\n\u001b[0;32m----> 1\u001b[0m \u001b[43mmake_call\u001b[49m\u001b[43m(\u001b[49m\u001b[38;5;124;43m\"\u001b[39;49m\u001b[38;5;124;43mMsa\u001b[39;49m\u001b[38;5;124;43m\"\u001b[39;49m\u001b[43m,\u001b[49m\u001b[43m \u001b[49m\u001b[38;5;124;43m\"\u001b[39;49m\u001b[38;5;124;43mcreate\u001b[39;49m\u001b[38;5;124;43m\"\u001b[39;49m\u001b[43m,\u001b[49m\u001b[43m \u001b[49m\u001b[43m{\u001b[49m\u001b[43m}\u001b[49m\u001b[43m,\u001b[49m\u001b[43m \u001b[49m\u001b[43malice\u001b[49m\u001b[43m)\u001b[49m\n\u001b[1;32m      2\u001b[0m make_call(\u001b[38;5;124m\"\u001b[39m\u001b[38;5;124mMsa\u001b[39m\u001b[38;5;124m\"\u001b[39m, \u001b[38;5;124m\"\u001b[39m\u001b[38;5;124mcreate\u001b[39m\u001b[38;5;124m\"\u001b[39m, {}, bob)\n",
      "Cell \u001b[0;32mIn [4], line 3\u001b[0m, in \u001b[0;36mmake_call\u001b[0;34m(call_module, call_function, call_params, keypair)\u001b[0m\n\u001b[1;32m      2\u001b[0m \u001b[38;5;28;01mdef\u001b[39;00m \u001b[38;5;21mmake_call\u001b[39m(call_module, call_function, call_params, keypair):\n\u001b[0;32m----> 3\u001b[0m     call \u001b[38;5;241m=\u001b[39m \u001b[43msubstrate\u001b[49m\u001b[38;5;241;43m.\u001b[39;49m\u001b[43mcompose_call\u001b[49m\u001b[43m(\u001b[49m\n\u001b[1;32m      4\u001b[0m \u001b[43m        \u001b[49m\u001b[43mcall_module\u001b[49m\u001b[38;5;241;43m=\u001b[39;49m\u001b[43mcall_module\u001b[49m\u001b[43m,\u001b[49m\n\u001b[1;32m      5\u001b[0m \u001b[43m        \u001b[49m\u001b[43mcall_function\u001b[49m\u001b[38;5;241;43m=\u001b[39;49m\u001b[43mcall_function\u001b[49m\u001b[43m,\u001b[49m\n\u001b[1;32m      6\u001b[0m \u001b[43m        \u001b[49m\u001b[43mcall_params\u001b[49m\u001b[38;5;241;43m=\u001b[39;49m\u001b[43mcall_params\u001b[49m\n\u001b[1;32m      7\u001b[0m \u001b[43m    \u001b[49m\u001b[43m)\u001b[49m\n\u001b[1;32m      9\u001b[0m     extrinsic \u001b[38;5;241m=\u001b[39m substrate\u001b[38;5;241m.\u001b[39mcreate_signed_extrinsic(call\u001b[38;5;241m=\u001b[39mcall, keypair\u001b[38;5;241m=\u001b[39mkeypair)\n\u001b[1;32m     11\u001b[0m     \u001b[38;5;28;01mtry\u001b[39;00m:\n",
      "File \u001b[0;32m~/.local/lib/python3.8/site-packages/substrateinterface/base.py:1612\u001b[0m, in \u001b[0;36mSubstrateInterface.compose_call\u001b[0;34m(self, call_module, call_function, call_params, block_hash)\u001b[0m\n\u001b[1;32m   1609\u001b[0m \u001b[38;5;28;01mif\u001b[39;00m call_params \u001b[38;5;129;01mis\u001b[39;00m \u001b[38;5;28;01mNone\u001b[39;00m:\n\u001b[1;32m   1610\u001b[0m     call_params \u001b[38;5;241m=\u001b[39m {}\n\u001b[0;32m-> 1612\u001b[0m \u001b[38;5;28;43mself\u001b[39;49m\u001b[38;5;241;43m.\u001b[39;49m\u001b[43minit_runtime\u001b[49m\u001b[43m(\u001b[49m\u001b[43mblock_hash\u001b[49m\u001b[38;5;241;43m=\u001b[39;49m\u001b[43mblock_hash\u001b[49m\u001b[43m)\u001b[49m\n\u001b[1;32m   1614\u001b[0m call \u001b[38;5;241m=\u001b[39m \u001b[38;5;28mself\u001b[39m\u001b[38;5;241m.\u001b[39mruntime_config\u001b[38;5;241m.\u001b[39mcreate_scale_object(\n\u001b[1;32m   1615\u001b[0m     type_string\u001b[38;5;241m=\u001b[39m\u001b[38;5;124m'\u001b[39m\u001b[38;5;124mCall\u001b[39m\u001b[38;5;124m'\u001b[39m, metadata\u001b[38;5;241m=\u001b[39m\u001b[38;5;28mself\u001b[39m\u001b[38;5;241m.\u001b[39mmetadata_decoder\n\u001b[1;32m   1616\u001b[0m )\n\u001b[1;32m   1618\u001b[0m call\u001b[38;5;241m.\u001b[39mencode({\n\u001b[1;32m   1619\u001b[0m     \u001b[38;5;124m'\u001b[39m\u001b[38;5;124mcall_module\u001b[39m\u001b[38;5;124m'\u001b[39m: call_module,\n\u001b[1;32m   1620\u001b[0m     \u001b[38;5;124m'\u001b[39m\u001b[38;5;124mcall_function\u001b[39m\u001b[38;5;124m'\u001b[39m: call_function,\n\u001b[1;32m   1621\u001b[0m     \u001b[38;5;124m'\u001b[39m\u001b[38;5;124mcall_args\u001b[39m\u001b[38;5;124m'\u001b[39m: call_params\n\u001b[1;32m   1622\u001b[0m })\n",
      "File \u001b[0;32m~/.local/lib/python3.8/site-packages/substrateinterface/base.py:1093\u001b[0m, in \u001b[0;36mSubstrateInterface.init_runtime\u001b[0;34m(self, block_hash, block_id)\u001b[0m\n\u001b[1;32m   1090\u001b[0m     block_hash \u001b[38;5;241m=\u001b[39m \u001b[38;5;28mself\u001b[39m\u001b[38;5;241m.\u001b[39mget_block_hash(block_id)\n\u001b[1;32m   1092\u001b[0m \u001b[38;5;28;01mif\u001b[39;00m \u001b[38;5;129;01mnot\u001b[39;00m block_hash:\n\u001b[0;32m-> 1093\u001b[0m     block_hash \u001b[38;5;241m=\u001b[39m \u001b[38;5;28;43mself\u001b[39;49m\u001b[38;5;241;43m.\u001b[39;49m\u001b[43mget_chain_head\u001b[49m\u001b[43m(\u001b[49m\u001b[43m)\u001b[49m\n\u001b[1;32m   1095\u001b[0m \u001b[38;5;28mself\u001b[39m\u001b[38;5;241m.\u001b[39mblock_hash \u001b[38;5;241m=\u001b[39m block_hash\n\u001b[1;32m   1096\u001b[0m \u001b[38;5;28mself\u001b[39m\u001b[38;5;241m.\u001b[39mblock_id \u001b[38;5;241m=\u001b[39m block_id\n",
      "File \u001b[0;32m~/.local/lib/python3.8/site-packages/substrateinterface/base.py:797\u001b[0m, in \u001b[0;36mSubstrateInterface.get_chain_head\u001b[0;34m(self)\u001b[0m\n\u001b[1;32m    789\u001b[0m \u001b[38;5;28;01mdef\u001b[39;00m \u001b[38;5;21mget_chain_head\u001b[39m(\u001b[38;5;28mself\u001b[39m):\n\u001b[1;32m    790\u001b[0m     \u001b[38;5;124;03m\"\"\"\u001b[39;00m\n\u001b[1;32m    791\u001b[0m \u001b[38;5;124;03m    A pass-though to existing JSONRPC method `chain_getHead`\u001b[39;00m\n\u001b[1;32m    792\u001b[0m \n\u001b[0;32m   (...)\u001b[0m\n\u001b[1;32m    795\u001b[0m \n\u001b[1;32m    796\u001b[0m \u001b[38;5;124;03m    \"\"\"\u001b[39;00m\n\u001b[0;32m--> 797\u001b[0m     response \u001b[38;5;241m=\u001b[39m \u001b[38;5;28;43mself\u001b[39;49m\u001b[38;5;241;43m.\u001b[39;49m\u001b[43mrpc_request\u001b[49m\u001b[43m(\u001b[49m\u001b[38;5;124;43m\"\u001b[39;49m\u001b[38;5;124;43mchain_getHead\u001b[39;49m\u001b[38;5;124;43m\"\u001b[39;49m\u001b[43m,\u001b[49m\u001b[43m \u001b[49m\u001b[43m[\u001b[49m\u001b[43m]\u001b[49m\u001b[43m)\u001b[49m\n\u001b[1;32m    799\u001b[0m     \u001b[38;5;28;01mif\u001b[39;00m response \u001b[38;5;129;01mis\u001b[39;00m \u001b[38;5;129;01mnot\u001b[39;00m \u001b[38;5;28;01mNone\u001b[39;00m:\n\u001b[1;32m    800\u001b[0m         \u001b[38;5;28;01mif\u001b[39;00m \u001b[38;5;124m'\u001b[39m\u001b[38;5;124merror\u001b[39m\u001b[38;5;124m'\u001b[39m \u001b[38;5;129;01min\u001b[39;00m response:\n",
      "File \u001b[0;32m~/.local/lib/python3.8/site-packages/substrateinterface/base.py:700\u001b[0m, in \u001b[0;36mSubstrateInterface.rpc_request\u001b[0;34m(self, method, params, result_handler)\u001b[0m\n\u001b[1;32m    697\u001b[0m \u001b[38;5;28;01mif\u001b[39;00m result_handler:\n\u001b[1;32m    698\u001b[0m     \u001b[38;5;28;01mraise\u001b[39;00m ConfigurationError(\u001b[38;5;124m\"\u001b[39m\u001b[38;5;124mResult handlers only available for websockets (ws://) connections\u001b[39m\u001b[38;5;124m\"\u001b[39m)\n\u001b[0;32m--> 700\u001b[0m response \u001b[38;5;241m=\u001b[39m \u001b[38;5;28;43mself\u001b[39;49m\u001b[38;5;241;43m.\u001b[39;49m\u001b[43msession\u001b[49m\u001b[38;5;241;43m.\u001b[39;49m\u001b[43mrequest\u001b[49m\u001b[43m(\u001b[49m\u001b[38;5;124;43m\"\u001b[39;49m\u001b[38;5;124;43mPOST\u001b[39;49m\u001b[38;5;124;43m\"\u001b[39;49m\u001b[43m,\u001b[49m\u001b[43m \u001b[49m\u001b[38;5;28;43mself\u001b[39;49m\u001b[38;5;241;43m.\u001b[39;49m\u001b[43murl\u001b[49m\u001b[43m,\u001b[49m\u001b[43m \u001b[49m\u001b[43mdata\u001b[49m\u001b[38;5;241;43m=\u001b[39;49m\u001b[43mjson\u001b[49m\u001b[38;5;241;43m.\u001b[39;49m\u001b[43mdumps\u001b[49m\u001b[43m(\u001b[49m\u001b[43mpayload\u001b[49m\u001b[43m)\u001b[49m\u001b[43m,\u001b[49m\u001b[43m \u001b[49m\u001b[43mheaders\u001b[49m\u001b[38;5;241;43m=\u001b[39;49m\u001b[38;5;28;43mself\u001b[39;49m\u001b[38;5;241;43m.\u001b[39;49m\u001b[43mdefault_headers\u001b[49m\u001b[43m)\u001b[49m\n\u001b[1;32m    702\u001b[0m \u001b[38;5;28;01mif\u001b[39;00m response\u001b[38;5;241m.\u001b[39mstatus_code \u001b[38;5;241m!=\u001b[39m \u001b[38;5;241m200\u001b[39m:\n\u001b[1;32m    703\u001b[0m     \u001b[38;5;28;01mraise\u001b[39;00m SubstrateRequestException(\n\u001b[1;32m    704\u001b[0m         \u001b[38;5;124m\"\u001b[39m\u001b[38;5;124mRPC request failed with HTTP status code \u001b[39m\u001b[38;5;132;01m{}\u001b[39;00m\u001b[38;5;124m\"\u001b[39m\u001b[38;5;241m.\u001b[39mformat(response\u001b[38;5;241m.\u001b[39mstatus_code))\n",
      "File \u001b[0;32m~/.local/lib/python3.8/site-packages/requests/sessions.py:587\u001b[0m, in \u001b[0;36mSession.request\u001b[0;34m(self, method, url, params, data, headers, cookies, files, auth, timeout, allow_redirects, proxies, hooks, stream, verify, cert, json)\u001b[0m\n\u001b[1;32m    582\u001b[0m send_kwargs \u001b[38;5;241m=\u001b[39m {\n\u001b[1;32m    583\u001b[0m     \u001b[38;5;124m\"\u001b[39m\u001b[38;5;124mtimeout\u001b[39m\u001b[38;5;124m\"\u001b[39m: timeout,\n\u001b[1;32m    584\u001b[0m     \u001b[38;5;124m\"\u001b[39m\u001b[38;5;124mallow_redirects\u001b[39m\u001b[38;5;124m\"\u001b[39m: allow_redirects,\n\u001b[1;32m    585\u001b[0m }\n\u001b[1;32m    586\u001b[0m send_kwargs\u001b[38;5;241m.\u001b[39mupdate(settings)\n\u001b[0;32m--> 587\u001b[0m resp \u001b[38;5;241m=\u001b[39m \u001b[38;5;28;43mself\u001b[39;49m\u001b[38;5;241;43m.\u001b[39;49m\u001b[43msend\u001b[49m\u001b[43m(\u001b[49m\u001b[43mprep\u001b[49m\u001b[43m,\u001b[49m\u001b[43m \u001b[49m\u001b[38;5;241;43m*\u001b[39;49m\u001b[38;5;241;43m*\u001b[39;49m\u001b[43msend_kwargs\u001b[49m\u001b[43m)\u001b[49m\n\u001b[1;32m    589\u001b[0m \u001b[38;5;28;01mreturn\u001b[39;00m resp\n",
      "File \u001b[0;32m~/.local/lib/python3.8/site-packages/requests/sessions.py:701\u001b[0m, in \u001b[0;36mSession.send\u001b[0;34m(self, request, **kwargs)\u001b[0m\n\u001b[1;32m    698\u001b[0m start \u001b[38;5;241m=\u001b[39m preferred_clock()\n\u001b[1;32m    700\u001b[0m \u001b[38;5;66;03m# Send the request\u001b[39;00m\n\u001b[0;32m--> 701\u001b[0m r \u001b[38;5;241m=\u001b[39m \u001b[43madapter\u001b[49m\u001b[38;5;241;43m.\u001b[39;49m\u001b[43msend\u001b[49m\u001b[43m(\u001b[49m\u001b[43mrequest\u001b[49m\u001b[43m,\u001b[49m\u001b[43m \u001b[49m\u001b[38;5;241;43m*\u001b[39;49m\u001b[38;5;241;43m*\u001b[39;49m\u001b[43mkwargs\u001b[49m\u001b[43m)\u001b[49m\n\u001b[1;32m    703\u001b[0m \u001b[38;5;66;03m# Total elapsed time of the request (approximately)\u001b[39;00m\n\u001b[1;32m    704\u001b[0m elapsed \u001b[38;5;241m=\u001b[39m preferred_clock() \u001b[38;5;241m-\u001b[39m start\n",
      "File \u001b[0;32m~/.local/lib/python3.8/site-packages/requests/adapters.py:489\u001b[0m, in \u001b[0;36mHTTPAdapter.send\u001b[0;34m(self, request, stream, timeout, verify, cert, proxies)\u001b[0m\n\u001b[1;32m    487\u001b[0m \u001b[38;5;28;01mtry\u001b[39;00m:\n\u001b[1;32m    488\u001b[0m     \u001b[38;5;28;01mif\u001b[39;00m \u001b[38;5;129;01mnot\u001b[39;00m chunked:\n\u001b[0;32m--> 489\u001b[0m         resp \u001b[38;5;241m=\u001b[39m \u001b[43mconn\u001b[49m\u001b[38;5;241;43m.\u001b[39;49m\u001b[43murlopen\u001b[49m\u001b[43m(\u001b[49m\n\u001b[1;32m    490\u001b[0m \u001b[43m            \u001b[49m\u001b[43mmethod\u001b[49m\u001b[38;5;241;43m=\u001b[39;49m\u001b[43mrequest\u001b[49m\u001b[38;5;241;43m.\u001b[39;49m\u001b[43mmethod\u001b[49m\u001b[43m,\u001b[49m\n\u001b[1;32m    491\u001b[0m \u001b[43m            \u001b[49m\u001b[43murl\u001b[49m\u001b[38;5;241;43m=\u001b[39;49m\u001b[43murl\u001b[49m\u001b[43m,\u001b[49m\n\u001b[1;32m    492\u001b[0m \u001b[43m            \u001b[49m\u001b[43mbody\u001b[49m\u001b[38;5;241;43m=\u001b[39;49m\u001b[43mrequest\u001b[49m\u001b[38;5;241;43m.\u001b[39;49m\u001b[43mbody\u001b[49m\u001b[43m,\u001b[49m\n\u001b[1;32m    493\u001b[0m \u001b[43m            \u001b[49m\u001b[43mheaders\u001b[49m\u001b[38;5;241;43m=\u001b[39;49m\u001b[43mrequest\u001b[49m\u001b[38;5;241;43m.\u001b[39;49m\u001b[43mheaders\u001b[49m\u001b[43m,\u001b[49m\n\u001b[1;32m    494\u001b[0m \u001b[43m            \u001b[49m\u001b[43mredirect\u001b[49m\u001b[38;5;241;43m=\u001b[39;49m\u001b[38;5;28;43;01mFalse\u001b[39;49;00m\u001b[43m,\u001b[49m\n\u001b[1;32m    495\u001b[0m \u001b[43m            \u001b[49m\u001b[43massert_same_host\u001b[49m\u001b[38;5;241;43m=\u001b[39;49m\u001b[38;5;28;43;01mFalse\u001b[39;49;00m\u001b[43m,\u001b[49m\n\u001b[1;32m    496\u001b[0m \u001b[43m            \u001b[49m\u001b[43mpreload_content\u001b[49m\u001b[38;5;241;43m=\u001b[39;49m\u001b[38;5;28;43;01mFalse\u001b[39;49;00m\u001b[43m,\u001b[49m\n\u001b[1;32m    497\u001b[0m \u001b[43m            \u001b[49m\u001b[43mdecode_content\u001b[49m\u001b[38;5;241;43m=\u001b[39;49m\u001b[38;5;28;43;01mFalse\u001b[39;49;00m\u001b[43m,\u001b[49m\n\u001b[1;32m    498\u001b[0m \u001b[43m            \u001b[49m\u001b[43mretries\u001b[49m\u001b[38;5;241;43m=\u001b[39;49m\u001b[38;5;28;43mself\u001b[39;49m\u001b[38;5;241;43m.\u001b[39;49m\u001b[43mmax_retries\u001b[49m\u001b[43m,\u001b[49m\n\u001b[1;32m    499\u001b[0m \u001b[43m            \u001b[49m\u001b[43mtimeout\u001b[49m\u001b[38;5;241;43m=\u001b[39;49m\u001b[43mtimeout\u001b[49m\u001b[43m,\u001b[49m\n\u001b[1;32m    500\u001b[0m \u001b[43m        \u001b[49m\u001b[43m)\u001b[49m\n\u001b[1;32m    502\u001b[0m     \u001b[38;5;66;03m# Send the request.\u001b[39;00m\n\u001b[1;32m    503\u001b[0m     \u001b[38;5;28;01melse\u001b[39;00m:\n\u001b[1;32m    504\u001b[0m         \u001b[38;5;28;01mif\u001b[39;00m \u001b[38;5;28mhasattr\u001b[39m(conn, \u001b[38;5;124m\"\u001b[39m\u001b[38;5;124mproxy_pool\u001b[39m\u001b[38;5;124m\"\u001b[39m):\n",
      "File \u001b[0;32m/usr/lib/python3/dist-packages/urllib3/connectionpool.py:665\u001b[0m, in \u001b[0;36mHTTPConnectionPool.urlopen\u001b[0;34m(self, method, url, body, headers, retries, redirect, assert_same_host, timeout, pool_timeout, release_conn, chunked, body_pos, **response_kw)\u001b[0m\n\u001b[1;32m    662\u001b[0m     \u001b[38;5;28mself\u001b[39m\u001b[38;5;241m.\u001b[39m_prepare_proxy(conn)\n\u001b[1;32m    664\u001b[0m \u001b[38;5;66;03m# Make the request on the httplib connection object.\u001b[39;00m\n\u001b[0;32m--> 665\u001b[0m httplib_response \u001b[38;5;241m=\u001b[39m \u001b[38;5;28;43mself\u001b[39;49m\u001b[38;5;241;43m.\u001b[39;49m\u001b[43m_make_request\u001b[49m\u001b[43m(\u001b[49m\n\u001b[1;32m    666\u001b[0m \u001b[43m    \u001b[49m\u001b[43mconn\u001b[49m\u001b[43m,\u001b[49m\n\u001b[1;32m    667\u001b[0m \u001b[43m    \u001b[49m\u001b[43mmethod\u001b[49m\u001b[43m,\u001b[49m\n\u001b[1;32m    668\u001b[0m \u001b[43m    \u001b[49m\u001b[43murl\u001b[49m\u001b[43m,\u001b[49m\n\u001b[1;32m    669\u001b[0m \u001b[43m    \u001b[49m\u001b[43mtimeout\u001b[49m\u001b[38;5;241;43m=\u001b[39;49m\u001b[43mtimeout_obj\u001b[49m\u001b[43m,\u001b[49m\n\u001b[1;32m    670\u001b[0m \u001b[43m    \u001b[49m\u001b[43mbody\u001b[49m\u001b[38;5;241;43m=\u001b[39;49m\u001b[43mbody\u001b[49m\u001b[43m,\u001b[49m\n\u001b[1;32m    671\u001b[0m \u001b[43m    \u001b[49m\u001b[43mheaders\u001b[49m\u001b[38;5;241;43m=\u001b[39;49m\u001b[43mheaders\u001b[49m\u001b[43m,\u001b[49m\n\u001b[1;32m    672\u001b[0m \u001b[43m    \u001b[49m\u001b[43mchunked\u001b[49m\u001b[38;5;241;43m=\u001b[39;49m\u001b[43mchunked\u001b[49m\u001b[43m,\u001b[49m\n\u001b[1;32m    673\u001b[0m \u001b[43m\u001b[49m\u001b[43m)\u001b[49m\n\u001b[1;32m    675\u001b[0m \u001b[38;5;66;03m# If we're going to release the connection in ``finally:``, then\u001b[39;00m\n\u001b[1;32m    676\u001b[0m \u001b[38;5;66;03m# the response doesn't need to know about the connection. Otherwise\u001b[39;00m\n\u001b[1;32m    677\u001b[0m \u001b[38;5;66;03m# it will also try to release it and we'll have a double-release\u001b[39;00m\n\u001b[1;32m    678\u001b[0m \u001b[38;5;66;03m# mess.\u001b[39;00m\n\u001b[1;32m    679\u001b[0m response_conn \u001b[38;5;241m=\u001b[39m conn \u001b[38;5;28;01mif\u001b[39;00m \u001b[38;5;129;01mnot\u001b[39;00m release_conn \u001b[38;5;28;01melse\u001b[39;00m \u001b[38;5;28;01mNone\u001b[39;00m\n",
      "File \u001b[0;32m/usr/lib/python3/dist-packages/urllib3/connectionpool.py:376\u001b[0m, in \u001b[0;36mHTTPConnectionPool._make_request\u001b[0;34m(self, conn, method, url, timeout, chunked, **httplib_request_kw)\u001b[0m\n\u001b[1;32m    374\u001b[0m \u001b[38;5;66;03m# Trigger any extra validation we need to do.\u001b[39;00m\n\u001b[1;32m    375\u001b[0m \u001b[38;5;28;01mtry\u001b[39;00m:\n\u001b[0;32m--> 376\u001b[0m     \u001b[38;5;28;43mself\u001b[39;49m\u001b[38;5;241;43m.\u001b[39;49m\u001b[43m_validate_conn\u001b[49m\u001b[43m(\u001b[49m\u001b[43mconn\u001b[49m\u001b[43m)\u001b[49m\n\u001b[1;32m    377\u001b[0m \u001b[38;5;28;01mexcept\u001b[39;00m (SocketTimeout, BaseSSLError) \u001b[38;5;28;01mas\u001b[39;00m e:\n\u001b[1;32m    378\u001b[0m     \u001b[38;5;66;03m# Py2 raises this as a BaseSSLError, Py3 raises it as socket timeout.\u001b[39;00m\n\u001b[1;32m    379\u001b[0m     \u001b[38;5;28mself\u001b[39m\u001b[38;5;241m.\u001b[39m_raise_timeout(err\u001b[38;5;241m=\u001b[39me, url\u001b[38;5;241m=\u001b[39murl, timeout_value\u001b[38;5;241m=\u001b[39mconn\u001b[38;5;241m.\u001b[39mtimeout)\n",
      "File \u001b[0;32m/usr/lib/python3/dist-packages/urllib3/connectionpool.py:996\u001b[0m, in \u001b[0;36mHTTPSConnectionPool._validate_conn\u001b[0;34m(self, conn)\u001b[0m\n\u001b[1;32m    994\u001b[0m \u001b[38;5;66;03m# Force connect early to allow us to validate the connection.\u001b[39;00m\n\u001b[1;32m    995\u001b[0m \u001b[38;5;28;01mif\u001b[39;00m \u001b[38;5;129;01mnot\u001b[39;00m \u001b[38;5;28mgetattr\u001b[39m(conn, \u001b[38;5;124m\"\u001b[39m\u001b[38;5;124msock\u001b[39m\u001b[38;5;124m\"\u001b[39m, \u001b[38;5;28;01mNone\u001b[39;00m):  \u001b[38;5;66;03m# AppEngine might not have  `.sock`\u001b[39;00m\n\u001b[0;32m--> 996\u001b[0m     \u001b[43mconn\u001b[49m\u001b[38;5;241;43m.\u001b[39;49m\u001b[43mconnect\u001b[49m\u001b[43m(\u001b[49m\u001b[43m)\u001b[49m\n\u001b[1;32m    998\u001b[0m \u001b[38;5;28;01mif\u001b[39;00m \u001b[38;5;129;01mnot\u001b[39;00m conn\u001b[38;5;241m.\u001b[39mis_verified:\n\u001b[1;32m    999\u001b[0m     warnings\u001b[38;5;241m.\u001b[39mwarn(\n\u001b[1;32m   1000\u001b[0m         (\n\u001b[1;32m   1001\u001b[0m             \u001b[38;5;124m\"\u001b[39m\u001b[38;5;124mUnverified HTTPS request is being made to host \u001b[39m\u001b[38;5;124m'\u001b[39m\u001b[38;5;132;01m%s\u001b[39;00m\u001b[38;5;124m'\u001b[39m\u001b[38;5;124m. \u001b[39m\u001b[38;5;124m\"\u001b[39m\n\u001b[0;32m   (...)\u001b[0m\n\u001b[1;32m   1006\u001b[0m         InsecureRequestWarning,\n\u001b[1;32m   1007\u001b[0m     )\n",
      "File \u001b[0;32m/usr/lib/python3/dist-packages/urllib3/connection.py:366\u001b[0m, in \u001b[0;36mVerifiedHTTPSConnection.connect\u001b[0;34m(self)\u001b[0m\n\u001b[1;32m    358\u001b[0m \u001b[38;5;28;01mif\u001b[39;00m (\n\u001b[1;32m    359\u001b[0m     \u001b[38;5;129;01mnot\u001b[39;00m \u001b[38;5;28mself\u001b[39m\u001b[38;5;241m.\u001b[39mca_certs\n\u001b[1;32m    360\u001b[0m     \u001b[38;5;129;01mand\u001b[39;00m \u001b[38;5;129;01mnot\u001b[39;00m \u001b[38;5;28mself\u001b[39m\u001b[38;5;241m.\u001b[39mca_cert_dir\n\u001b[1;32m    361\u001b[0m     \u001b[38;5;129;01mand\u001b[39;00m default_ssl_context\n\u001b[1;32m    362\u001b[0m     \u001b[38;5;129;01mand\u001b[39;00m \u001b[38;5;28mhasattr\u001b[39m(context, \u001b[38;5;124m\"\u001b[39m\u001b[38;5;124mload_default_certs\u001b[39m\u001b[38;5;124m\"\u001b[39m)\n\u001b[1;32m    363\u001b[0m ):\n\u001b[1;32m    364\u001b[0m     context\u001b[38;5;241m.\u001b[39mload_default_certs()\n\u001b[0;32m--> 366\u001b[0m \u001b[38;5;28mself\u001b[39m\u001b[38;5;241m.\u001b[39msock \u001b[38;5;241m=\u001b[39m \u001b[43mssl_wrap_socket\u001b[49m\u001b[43m(\u001b[49m\n\u001b[1;32m    367\u001b[0m \u001b[43m    \u001b[49m\u001b[43msock\u001b[49m\u001b[38;5;241;43m=\u001b[39;49m\u001b[43mconn\u001b[49m\u001b[43m,\u001b[49m\n\u001b[1;32m    368\u001b[0m \u001b[43m    \u001b[49m\u001b[43mkeyfile\u001b[49m\u001b[38;5;241;43m=\u001b[39;49m\u001b[38;5;28;43mself\u001b[39;49m\u001b[38;5;241;43m.\u001b[39;49m\u001b[43mkey_file\u001b[49m\u001b[43m,\u001b[49m\n\u001b[1;32m    369\u001b[0m \u001b[43m    \u001b[49m\u001b[43mcertfile\u001b[49m\u001b[38;5;241;43m=\u001b[39;49m\u001b[38;5;28;43mself\u001b[39;49m\u001b[38;5;241;43m.\u001b[39;49m\u001b[43mcert_file\u001b[49m\u001b[43m,\u001b[49m\n\u001b[1;32m    370\u001b[0m \u001b[43m    \u001b[49m\u001b[43mkey_password\u001b[49m\u001b[38;5;241;43m=\u001b[39;49m\u001b[38;5;28;43mself\u001b[39;49m\u001b[38;5;241;43m.\u001b[39;49m\u001b[43mkey_password\u001b[49m\u001b[43m,\u001b[49m\n\u001b[1;32m    371\u001b[0m \u001b[43m    \u001b[49m\u001b[43mca_certs\u001b[49m\u001b[38;5;241;43m=\u001b[39;49m\u001b[38;5;28;43mself\u001b[39;49m\u001b[38;5;241;43m.\u001b[39;49m\u001b[43mca_certs\u001b[49m\u001b[43m,\u001b[49m\n\u001b[1;32m    372\u001b[0m \u001b[43m    \u001b[49m\u001b[43mca_cert_dir\u001b[49m\u001b[38;5;241;43m=\u001b[39;49m\u001b[38;5;28;43mself\u001b[39;49m\u001b[38;5;241;43m.\u001b[39;49m\u001b[43mca_cert_dir\u001b[49m\u001b[43m,\u001b[49m\n\u001b[1;32m    373\u001b[0m \u001b[43m    \u001b[49m\u001b[43mserver_hostname\u001b[49m\u001b[38;5;241;43m=\u001b[39;49m\u001b[43mserver_hostname\u001b[49m\u001b[43m,\u001b[49m\n\u001b[1;32m    374\u001b[0m \u001b[43m    \u001b[49m\u001b[43mssl_context\u001b[49m\u001b[38;5;241;43m=\u001b[39;49m\u001b[43mcontext\u001b[49m\u001b[43m,\u001b[49m\n\u001b[1;32m    375\u001b[0m \u001b[43m\u001b[49m\u001b[43m)\u001b[49m\n\u001b[1;32m    377\u001b[0m \u001b[38;5;28;01mif\u001b[39;00m \u001b[38;5;28mself\u001b[39m\u001b[38;5;241m.\u001b[39massert_fingerprint:\n\u001b[1;32m    378\u001b[0m     assert_fingerprint(\n\u001b[1;32m    379\u001b[0m         \u001b[38;5;28mself\u001b[39m\u001b[38;5;241m.\u001b[39msock\u001b[38;5;241m.\u001b[39mgetpeercert(binary_form\u001b[38;5;241m=\u001b[39m\u001b[38;5;28;01mTrue\u001b[39;00m), \u001b[38;5;28mself\u001b[39m\u001b[38;5;241m.\u001b[39massert_fingerprint\n\u001b[1;32m    380\u001b[0m     )\n",
      "File \u001b[0;32m/usr/lib/python3/dist-packages/urllib3/util/ssl_.py:383\u001b[0m, in \u001b[0;36mssl_wrap_socket\u001b[0;34m(sock, keyfile, certfile, cert_reqs, ca_certs, server_hostname, ssl_version, ciphers, ssl_context, ca_cert_dir, key_password)\u001b[0m\n\u001b[1;32m    370\u001b[0m         \u001b[38;5;28;01mreturn\u001b[39;00m context\u001b[38;5;241m.\u001b[39mwrap_socket(sock, server_hostname\u001b[38;5;241m=\u001b[39mserver_hostname)\n\u001b[1;32m    372\u001b[0m     warnings\u001b[38;5;241m.\u001b[39mwarn(\n\u001b[1;32m    373\u001b[0m         \u001b[38;5;124m\"\u001b[39m\u001b[38;5;124mAn HTTPS request has been made, but the SNI (Server Name \u001b[39m\u001b[38;5;124m\"\u001b[39m\n\u001b[1;32m    374\u001b[0m         \u001b[38;5;124m\"\u001b[39m\u001b[38;5;124mIndication) extension to TLS is not available on this platform. \u001b[39m\u001b[38;5;124m\"\u001b[39m\n\u001b[0;32m   (...)\u001b[0m\n\u001b[1;32m    380\u001b[0m         SNIMissingWarning,\n\u001b[1;32m    381\u001b[0m     )\n\u001b[0;32m--> 383\u001b[0m \u001b[38;5;28;01mreturn\u001b[39;00m \u001b[43mcontext\u001b[49m\u001b[38;5;241;43m.\u001b[39;49m\u001b[43mwrap_socket\u001b[49m\u001b[43m(\u001b[49m\u001b[43msock\u001b[49m\u001b[43m)\u001b[49m\n",
      "File \u001b[0;32m/usr/lib/python3.8/ssl.py:500\u001b[0m, in \u001b[0;36mSSLContext.wrap_socket\u001b[0;34m(self, sock, server_side, do_handshake_on_connect, suppress_ragged_eofs, server_hostname, session)\u001b[0m\n\u001b[1;32m    494\u001b[0m \u001b[38;5;28;01mdef\u001b[39;00m \u001b[38;5;21mwrap_socket\u001b[39m(\u001b[38;5;28mself\u001b[39m, sock, server_side\u001b[38;5;241m=\u001b[39m\u001b[38;5;28;01mFalse\u001b[39;00m,\n\u001b[1;32m    495\u001b[0m                 do_handshake_on_connect\u001b[38;5;241m=\u001b[39m\u001b[38;5;28;01mTrue\u001b[39;00m,\n\u001b[1;32m    496\u001b[0m                 suppress_ragged_eofs\u001b[38;5;241m=\u001b[39m\u001b[38;5;28;01mTrue\u001b[39;00m,\n\u001b[1;32m    497\u001b[0m                 server_hostname\u001b[38;5;241m=\u001b[39m\u001b[38;5;28;01mNone\u001b[39;00m, session\u001b[38;5;241m=\u001b[39m\u001b[38;5;28;01mNone\u001b[39;00m):\n\u001b[1;32m    498\u001b[0m     \u001b[38;5;66;03m# SSLSocket class handles server_hostname encoding before it calls\u001b[39;00m\n\u001b[1;32m    499\u001b[0m     \u001b[38;5;66;03m# ctx._wrap_socket()\u001b[39;00m\n\u001b[0;32m--> 500\u001b[0m     \u001b[38;5;28;01mreturn\u001b[39;00m \u001b[38;5;28;43mself\u001b[39;49m\u001b[38;5;241;43m.\u001b[39;49m\u001b[43msslsocket_class\u001b[49m\u001b[38;5;241;43m.\u001b[39;49m\u001b[43m_create\u001b[49m\u001b[43m(\u001b[49m\n\u001b[1;32m    501\u001b[0m \u001b[43m        \u001b[49m\u001b[43msock\u001b[49m\u001b[38;5;241;43m=\u001b[39;49m\u001b[43msock\u001b[49m\u001b[43m,\u001b[49m\n\u001b[1;32m    502\u001b[0m \u001b[43m        \u001b[49m\u001b[43mserver_side\u001b[49m\u001b[38;5;241;43m=\u001b[39;49m\u001b[43mserver_side\u001b[49m\u001b[43m,\u001b[49m\n\u001b[1;32m    503\u001b[0m \u001b[43m        \u001b[49m\u001b[43mdo_handshake_on_connect\u001b[49m\u001b[38;5;241;43m=\u001b[39;49m\u001b[43mdo_handshake_on_connect\u001b[49m\u001b[43m,\u001b[49m\n\u001b[1;32m    504\u001b[0m \u001b[43m        \u001b[49m\u001b[43msuppress_ragged_eofs\u001b[49m\u001b[38;5;241;43m=\u001b[39;49m\u001b[43msuppress_ragged_eofs\u001b[49m\u001b[43m,\u001b[49m\n\u001b[1;32m    505\u001b[0m \u001b[43m        \u001b[49m\u001b[43mserver_hostname\u001b[49m\u001b[38;5;241;43m=\u001b[39;49m\u001b[43mserver_hostname\u001b[49m\u001b[43m,\u001b[49m\n\u001b[1;32m    506\u001b[0m \u001b[43m        \u001b[49m\u001b[43mcontext\u001b[49m\u001b[38;5;241;43m=\u001b[39;49m\u001b[38;5;28;43mself\u001b[39;49m\u001b[43m,\u001b[49m\n\u001b[1;32m    507\u001b[0m \u001b[43m        \u001b[49m\u001b[43msession\u001b[49m\u001b[38;5;241;43m=\u001b[39;49m\u001b[43msession\u001b[49m\n\u001b[1;32m    508\u001b[0m \u001b[43m    \u001b[49m\u001b[43m)\u001b[49m\n",
      "File \u001b[0;32m/usr/lib/python3.8/ssl.py:1040\u001b[0m, in \u001b[0;36mSSLSocket._create\u001b[0;34m(cls, sock, server_side, do_handshake_on_connect, suppress_ragged_eofs, server_hostname, context, session)\u001b[0m\n\u001b[1;32m   1037\u001b[0m         \u001b[38;5;28;01mif\u001b[39;00m timeout \u001b[38;5;241m==\u001b[39m \u001b[38;5;241m0.0\u001b[39m:\n\u001b[1;32m   1038\u001b[0m             \u001b[38;5;66;03m# non-blocking\u001b[39;00m\n\u001b[1;32m   1039\u001b[0m             \u001b[38;5;28;01mraise\u001b[39;00m \u001b[38;5;167;01mValueError\u001b[39;00m(\u001b[38;5;124m\"\u001b[39m\u001b[38;5;124mdo_handshake_on_connect should not be specified for non-blocking sockets\u001b[39m\u001b[38;5;124m\"\u001b[39m)\n\u001b[0;32m-> 1040\u001b[0m         \u001b[38;5;28;43mself\u001b[39;49m\u001b[38;5;241;43m.\u001b[39;49m\u001b[43mdo_handshake\u001b[49m\u001b[43m(\u001b[49m\u001b[43m)\u001b[49m\n\u001b[1;32m   1041\u001b[0m \u001b[38;5;28;01mexcept\u001b[39;00m (\u001b[38;5;167;01mOSError\u001b[39;00m, \u001b[38;5;167;01mValueError\u001b[39;00m):\n\u001b[1;32m   1042\u001b[0m     \u001b[38;5;28mself\u001b[39m\u001b[38;5;241m.\u001b[39mclose()\n",
      "File \u001b[0;32m/usr/lib/python3.8/ssl.py:1309\u001b[0m, in \u001b[0;36mSSLSocket.do_handshake\u001b[0;34m(self, block)\u001b[0m\n\u001b[1;32m   1307\u001b[0m     \u001b[38;5;28;01mif\u001b[39;00m timeout \u001b[38;5;241m==\u001b[39m \u001b[38;5;241m0.0\u001b[39m \u001b[38;5;129;01mand\u001b[39;00m block:\n\u001b[1;32m   1308\u001b[0m         \u001b[38;5;28mself\u001b[39m\u001b[38;5;241m.\u001b[39msettimeout(\u001b[38;5;28;01mNone\u001b[39;00m)\n\u001b[0;32m-> 1309\u001b[0m     \u001b[38;5;28;43mself\u001b[39;49m\u001b[38;5;241;43m.\u001b[39;49m\u001b[43m_sslobj\u001b[49m\u001b[38;5;241;43m.\u001b[39;49m\u001b[43mdo_handshake\u001b[49m\u001b[43m(\u001b[49m\u001b[43m)\u001b[49m\n\u001b[1;32m   1310\u001b[0m \u001b[38;5;28;01mfinally\u001b[39;00m:\n\u001b[1;32m   1311\u001b[0m     \u001b[38;5;28mself\u001b[39m\u001b[38;5;241m.\u001b[39msettimeout(timeout)\n",
      "\u001b[0;31mKeyboardInterrupt\u001b[0m: "
     ]
    }
   ],
   "source": [
    "make_call(\"Msa\", \"create\", {}, alice)\n",
    "make_call(\"Msa\", \"create\", {}, bob)"
   ]
  },
  {
   "cell_type": "code",
   "execution_count": null,
   "id": "c3d031b3",
   "metadata": {},
   "outputs": [],
   "source": [
    "# Create never before used wallet\n",
    "new_wallet = Keypair.create_from_uri('//BrandNewWallet4', crypto_type=substrateinterface.KeypairType.SR25519)"
   ]
  },
  {
   "cell_type": "code",
   "execution_count": null,
   "id": "0f0f38b4",
   "metadata": {
    "scrolled": true
   },
   "outputs": [],
   "source": [
    "# Give wallet some tokens to it can make MSA\n",
    "# Must be at least 1 unit\n",
    "one_unit = 1000000000000\n",
    "receipt = make_call(\"Balances\", \"transfer\", {\"dest\": new_wallet.ss58_address, \"value\": 10 * one_unit}, alice)\n",
    "receipt.error_message"
   ]
  },
  {
   "cell_type": "code",
   "execution_count": null,
   "id": "c9086210",
   "metadata": {
    "scrolled": true
   },
   "outputs": [],
   "source": [
    "msa_key = substrate.query(\n",
    "    module='Msa',\n",
    "    storage_function='KeyInfoOf',\n",
    "    params=[new_wallet.ss58_address]\n",
    ")\n",
    "\n",
    "if msa_key == None:\n",
    "    make_call(\"Msa\", \"create\", {}, new_wallet)\n",
    "    msa_key = substrate.query(\n",
    "        module='Msa',\n",
    "        storage_function='KeyInfoOf',\n",
    "        params=[new_wallet.ss58_address]\n",
    "    )\n",
    "    \n",
    "msa_id = msa_key['msa_id'].decode()\n",
    "msa_id"
   ]
  },
  {
   "cell_type": "code",
   "execution_count": null,
   "id": "1156543a",
   "metadata": {
    "scrolled": true
   },
   "outputs": [],
   "source": [
    "# encode payload with \n",
    "payload_raw = { \"msa_id\": msa_id, \"nonce\": substrate.get_account_nonce(new_wallet.ss58_address) + 1 }\n",
    "add_provider_payload = substrate.encode_scale(type_string='scale_info::8', value=payload_raw['msa_id']) + substrate.encode_scale(type_string='scale_info::4', value=payload_raw['nonce'])\n",
    "add_provider_payload1 = \"\".encode() + add_provider_payload.data\n",
    "add_provider_payload2 = substrate.encode_scale(type_string='str', value=\"<Bytes>\") + add_provider_payload + substrate.encode_scale(type_string='str', value=\"</Bytes>\")\n",
    "add_provider_payload3 = \"<Bytes>\".encode() + add_provider_payload.data + \"</Bytes>\".encode()"
   ]
  },
  {
   "cell_type": "code",
   "execution_count": null,
   "id": "a5777308",
   "metadata": {},
   "outputs": [],
   "source": [
    "# This helps find what scale_info to use for parameters\n",
    "# substrate.metadata_decoder"
   ]
  },
  {
   "cell_type": "code",
   "execution_count": null,
   "id": "6109b579",
   "metadata": {},
   "outputs": [],
   "source": [
    "signature = new_wallet.sign(add_provider_payload)\n",
    "signature1 = new_wallet.sign(add_provider_payload1)\n",
    "signature2 = new_wallet.sign(add_provider_payload2)\n",
    "signature3 = new_wallet.sign(add_provider_payload3)"
   ]
  },
  {
   "cell_type": "code",
   "execution_count": null,
   "id": "3f6e1563",
   "metadata": {},
   "outputs": [],
   "source": [
    "# signature = new_wallet.sign(blake2b(add_provider_payload.data, digest_size=32).digest())"
   ]
  },
  {
   "cell_type": "code",
   "execution_count": null,
   "id": "77af8b73",
   "metadata": {
    "scrolled": true
   },
   "outputs": [],
   "source": [
    "for i, key in enumerate([\"0x\" + new_wallet.public_key.hex(), new_wallet.ss58_address]):\n",
    "    for j, s in enumerate([signature, signature1, signature2, signature3]):\n",
    "        print(i, j)\n",
    "        call_params = {\n",
    "            \"key\": key,\n",
    "            \"proof\": {\"Sr25519\": \"0x\" + s.hex()},\n",
    "            \"add_key_payload\": payload_raw\n",
    "        }\n",
    "\n",
    "        # mute function as I made it output a lot of info\n",
    "        with open(os.devnull, \"w\") as f, contextlib.redirect_stdout(f):\n",
    "            receipt = make_call(\"Msa\", \"add_key_to_msa\", call_params, new_wallet)\n",
    "        print(receipt.error_message)\n",
    "        print()"
   ]
  },
  {
   "cell_type": "code",
   "execution_count": null,
   "id": "a5f1e38b",
   "metadata": {
    "scrolled": true
   },
   "outputs": [],
   "source": [
    "add_provider_payload3 = \"<Bytes>\".encode() + add_provider_payload.data + \"</Bytes>\".encode()\n",
    "signature3 = new_wallet.sign(add_provider_payload3)\n",
    "\n",
    "key = \"0x\" + new_wallet.public_key.hex()\n",
    "s = signature3\n",
    "\n",
    "call_params = {\n",
    "    \"key\": key,\n",
    "    \"proof\": {\"Sr25519\": \"0x\" + s.hex()},\n",
    "    \"add_key_payload\": payload_raw\n",
    "}\n",
    "\n",
    "# mute function as I made it output a lot of info\n",
    "with open(os.devnull, \"w\") as f, contextlib.redirect_stdout(f):\n",
    "    receipt = make_call(\"Msa\", \"add_key_to_msa\", call_params, new_wallet)\n",
    "print(receipt.error_message)\n",
    "print()"
   ]
  },
  {
   "cell_type": "markdown",
   "id": "b9e9953c",
   "metadata": {},
   "source": [
    "# Attempt to delegate"
   ]
  },
  {
   "cell_type": "code",
   "execution_count": null,
   "id": "177b6617",
   "metadata": {},
   "outputs": [],
   "source": [
    "payload_raw = { \"authorized_msa_id\": msa_id, \"permission\": 0 }\n",
    "add_provider_payload = substrate.encode_scale(type_string='scale_info::8', value=payload_raw['authorized_msa_id']) + substrate.encode_scale(type_string='scale_info::2', value=payload_raw['permission'])\n",
    "add_provider_payload3 = \"<Bytes>\".encode() + add_provider_payload.data + \"</Bytes>\".encode()\n",
    "signature3 = alice.sign(add_provider_payload3)\n",
    "\n",
    "\n",
    "key = \"0x\" + alice.public_key.hex()\n",
    "s = signature3\n",
    "\n",
    "call_params = {\n",
    "    \"provider_key\": key,\n",
    "    \"proof\": {\"Sr25519\": \"0x\" + s.hex()},\n",
    "    \"add_provider_payload\": payload_raw\n",
    "}\n",
    "\n",
    "# mute function as I made it output a lot of info\n",
    "with open(os.devnull, \"w\") as f, contextlib.redirect_stdout(f):\n",
    "    receipt = make_call(\"Msa\", \"add_provider_to_msa\", call_params, new_wallet)\n",
    "print(receipt.error_message)\n",
    "print()"
   ]
  },
  {
   "cell_type": "markdown",
   "id": "6e418b61",
   "metadata": {},
   "source": [
    "# Attempt to create with delegation"
   ]
  },
  {
   "cell_type": "code",
   "execution_count": null,
   "id": "38674e6f",
   "metadata": {},
   "outputs": [],
   "source": [
    "msa_key = substrate.query(\n",
    "    module='Msa',\n",
    "    storage_function='KeyInfoOf',\n",
    "    params=[new_wallet.ss58_address]\n",
    ")"
   ]
  },
  {
   "cell_type": "code",
   "execution_count": null,
   "id": "5b70cda1",
   "metadata": {},
   "outputs": [],
   "source": [
    "msa_key"
   ]
  },
  {
   "cell_type": "code",
   "execution_count": null,
   "id": "dfcdefbc",
   "metadata": {
    "scrolled": true
   },
   "outputs": [],
   "source": [
    "msa_key = substrate.query(\n",
    "    module='Msa',\n",
    "    storage_function='KeyInfoOf',\n",
    "    params=[alice.ss58_address]\n",
    ")\n",
    "\n",
    "if msa_key == None:\n",
    "    make_call(\"Msa\", \"create\", {}, new_wallet)\n",
    "    msa_key = substrate.query(\n",
    "        module='Msa',\n",
    "        storage_function='KeyInfoOf',\n",
    "        params=[alice.ss58_address]\n",
    "    )\n",
    "    \n",
    "provider_msa_id = msa_key['msa_id'].decode()\n",
    "\n",
    "nex_msa_id = substrate.query(\n",
    "    module='Msa',\n",
    "    storage_function='MsaIdentifier',\n",
    "    params=[]\n",
    ").value + 1\n",
    "\n",
    "payload_raw = { \"authorized_msa_id\": provider_msa_id, \"permission\": 0 }\n",
    "add_provider_payload = substrate.(type_string='scale_info::8', value=payload_raw['authorized_msa_id']) + \\\n",
    "    substrate.encode_scale(type_string='scale_info::2', value=paylencode_scaleoad_raw['permission'])\n",
    "add_provider_payload3 = \"<Bytes>\".encode() + add_provider_payload.data + \"</Bytes>\".encode()\n",
    "signature3 = new_wallet.sign(add_provider_payload3)\n",
    "\n",
    "\n",
    "key = \"0x\" + new_wallet.public_key.hex()\n",
    "s = signature3\n",
    "\n",
    "call_params = {\n",
    "    \"delegator_key\": key,\n",
    "    \"proof\": {\"Sr25519\": \"0x\" + s.hex()},\n",
    "    \"add_provider_payload\": payload_raw\n",
    "}\n",
    "\n",
    "# mute function as I made it output a lot of info\n",
    "with open(os.devnull, \"w\") as f, contextlib.redirect_stdout(f):\n",
    "    receipt = make_call(\"Msa\", \"create_sponsored_account_with_delegation\", call_params, alice)\n",
    "print(receipt.error_message)\n",
    "print()"
   ]
  },
  {
   "cell_type": "code",
   "execution_count": null,
   "id": "20719697",
   "metadata": {},
   "outputs": [],
   "source": []
  }
 ],
 "metadata": {
  "kernelspec": {
   "display_name": "Python 3 (ipykernel)",
   "language": "python",
   "name": "python3"
  },
  "language_info": {
   "codemirror_mode": {
    "name": "ipython",
    "version": 3
   },
   "file_extension": ".py",
   "mimetype": "text/x-python",
   "name": "python",
   "nbconvert_exporter": "python",
   "pygments_lexer": "ipython3",
   "version": "3.8.10"
  }
 },
 "nbformat": 4,
 "nbformat_minor": 5
}
