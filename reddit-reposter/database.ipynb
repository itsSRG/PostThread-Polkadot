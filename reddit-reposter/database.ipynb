{
 "cells": [
  {
   "cell_type": "code",
   "execution_count": 1,
   "id": "f407b90a",
   "metadata": {},
   "outputs": [],
   "source": [
    "%load_ext autoreload\n",
    "%autoreload 2"
   ]
  },
  {
   "cell_type": "code",
   "execution_count": 2,
   "id": "8aea1773",
   "metadata": {},
   "outputs": [],
   "source": [
    "from substrate_helpers import *"
   ]
  },
  {
   "cell_type": "code",
   "execution_count": 3,
   "id": "b318db55",
   "metadata": {},
   "outputs": [],
   "source": [
    "import sqlite3\n",
    "import re\n",
    "import datetime\n",
    "import pandas as pd"
   ]
  },
  {
   "cell_type": "code",
   "execution_count": 4,
   "id": "a0eb481e",
   "metadata": {},
   "outputs": [],
   "source": [
    "from database_queries import update_db"
   ]
  },
  {
   "cell_type": "code",
   "execution_count": 5,
   "id": "e8704869",
   "metadata": {
    "scrolled": true
   },
   "outputs": [],
   "source": [
    "from substrateinterface import SubstrateInterface, Keypair\n",
    "from substrateinterface.exceptions import SubstrateRequestException\n",
    "\n",
    "substrate = SubstrateInterface(\n",
    "    url=\"ws://127.0.0.1:9944\",\n",
    "    ss58_format=42,\n",
    "    type_registry_preset='kusama'\n",
    ")"
   ]
  },
  {
   "cell_type": "code",
   "execution_count": 6,
   "id": "1569e31f",
   "metadata": {},
   "outputs": [],
   "source": [
    "con = sqlite3.connect('postthreadV1_write.db')\n",
    "# con = sqlite3.connect('test1.db')\n",
    "cur = con.cursor()"
   ]
  },
  {
   "cell_type": "code",
   "execution_count": 7,
   "id": "91f42b29",
   "metadata": {},
   "outputs": [],
   "source": [
    "accounts = json.load(open(\"accounts.json\", \"r\"))\n",
    "schemas = json.load(open(\"schemas.json\", \"r\"))"
   ]
  },
  {
   "cell_type": "code",
   "execution_count": 8,
   "id": "3c9f623e",
   "metadata": {},
   "outputs": [
    {
     "data": {
      "text/plain": [
       "{'post': 1,\n",
       " 'comment': 2,\n",
       " 'vote': 3,\n",
       " 'user': 4,\n",
       " 'follow': 5,\n",
       " 'link': 6,\n",
       " 'payout': 7}"
      ]
     },
     "execution_count": 8,
     "metadata": {},
     "output_type": "execute_result"
    }
   ],
   "source": [
    "schemas"
   ]
  },
  {
   "cell_type": "code",
   "execution_count": 10,
   "id": "c70ce4b4",
   "metadata": {},
   "outputs": [
    {
     "ename": "SubstrateRequestException",
     "evalue": "{'code': 100, 'message': 'Dispatch Module Error', 'data': 'ModuleError { index: 61, error: [5, 0, 0, 0], message: None }'}",
     "output_type": "error",
     "traceback": [
      "\u001b[0;31m---------------------------------------------------------------------------\u001b[0m",
      "\u001b[0;31mSubstrateRequestException\u001b[0m                 Traceback (most recent call last)",
      "Cell \u001b[0;32mIn [10], line 10\u001b[0m\n\u001b[1;32m      1\u001b[0m params \u001b[38;5;241m=\u001b[39m [\n\u001b[1;32m      2\u001b[0m \u001b[38;5;241m7\u001b[39m,\n\u001b[1;32m      3\u001b[0m {\n\u001b[0;32m   (...)\u001b[0m\n\u001b[1;32m      8\u001b[0m }\n\u001b[1;32m      9\u001b[0m ]\n\u001b[0;32m---> 10\u001b[0m request \u001b[38;5;241m=\u001b[39m \u001b[43msubstrate\u001b[49m\u001b[38;5;241;43m.\u001b[39;49m\u001b[43mrpc_request\u001b[49m\u001b[43m(\u001b[49m\n\u001b[1;32m     11\u001b[0m \u001b[43mmethod\u001b[49m\u001b[38;5;241;43m=\u001b[39;49m\u001b[38;5;124;43m'\u001b[39;49m\u001b[38;5;124;43mmessages_getBySchema\u001b[39;49m\u001b[38;5;124;43m'\u001b[39;49m\u001b[43m,\u001b[49m\n\u001b[1;32m     12\u001b[0m \u001b[43mparams\u001b[49m\u001b[38;5;241;43m=\u001b[39;49m\u001b[43mparams\u001b[49m\u001b[43m,\u001b[49m\n\u001b[1;32m     13\u001b[0m \u001b[43m)\u001b[49m\n",
      "File \u001b[0;32m~/.local/lib/python3.8/site-packages/substrateinterface/base.py:667\u001b[0m, in \u001b[0;36mSubstrateInterface.rpc_request\u001b[0;34m(self, method, params, result_handler)\u001b[0m\n\u001b[1;32m    665\u001b[0m \u001b[38;5;66;03m# Check if response has error\u001b[39;00m\n\u001b[1;32m    666\u001b[0m \u001b[38;5;28;01mif\u001b[39;00m \u001b[38;5;124m'\u001b[39m\u001b[38;5;124merror\u001b[39m\u001b[38;5;124m'\u001b[39m \u001b[38;5;129;01min\u001b[39;00m message:\n\u001b[0;32m--> 667\u001b[0m     \u001b[38;5;28;01mraise\u001b[39;00m SubstrateRequestException(message[\u001b[38;5;124m'\u001b[39m\u001b[38;5;124merror\u001b[39m\u001b[38;5;124m'\u001b[39m])\n\u001b[1;32m    669\u001b[0m \u001b[38;5;66;03m# If result handler is set, pass result through and loop until handler return value is set\u001b[39;00m\n\u001b[1;32m    670\u001b[0m \u001b[38;5;28;01mif\u001b[39;00m callable(result_handler):\n\u001b[1;32m    671\u001b[0m \n\u001b[1;32m    672\u001b[0m     \u001b[38;5;66;03m# Set subscription ID and only listen to messages containing this ID\u001b[39;00m\n",
      "\u001b[0;31mSubstrateRequestException\u001b[0m: {'code': 100, 'message': 'Dispatch Module Error', 'data': 'ModuleError { index: 61, error: [5, 0, 0, 0], message: None }'}"
     ]
    }
   ],
   "source": [
    "params = [\n",
    "7,\n",
    "{\n",
    "\"page_size\": 10000,\n",
    "\"from_block\": 0,\n",
    "\"to_block\": 10000,\n",
    "\"from_index\": 0,\n",
    "}\n",
    "]\n",
    "request = substrate.rpc_request(\n",
    "method='messages_getBySchema',\n",
    "params=params,\n",
    ")"
   ]
  },
  {
   "cell_type": "code",
   "execution_count": 11,
   "id": "6fc4467b",
   "metadata": {
    "scrolled": true
   },
   "outputs": [
    {
     "ename": "AttributeError",
     "evalue": "'NoneType' object has no attribute 'split'",
     "output_type": "error",
     "traceback": [
      "\u001b[0;31m---------------------------------------------------------------------------\u001b[0m",
      "\u001b[0;31mAttributeError\u001b[0m                            Traceback (most recent call last)",
      "Cell \u001b[0;32mIn [11], line 1\u001b[0m\n\u001b[0;32m----> 1\u001b[0m last_block_updated \u001b[38;5;241m=\u001b[39m \u001b[43mupdate_db\u001b[49m\u001b[43m(\u001b[49m\u001b[43mstart_block\u001b[49m\u001b[38;5;241;43m=\u001b[39;49m\u001b[38;5;241;43m0\u001b[39;49m\u001b[43m,\u001b[49m\u001b[43m \u001b[49m\u001b[43mbackfill\u001b[49m\u001b[38;5;241;43m=\u001b[39;49m\u001b[38;5;28;43;01mTrue\u001b[39;49;00m\u001b[43m,\u001b[49m\u001b[43m \u001b[49m\u001b[43mschemaToUpdate\u001b[49m\u001b[38;5;241;43m=\u001b[39;49m\u001b[38;5;28;43;01mNone\u001b[39;49;00m\u001b[43m)\u001b[49m\n\u001b[1;32m      2\u001b[0m con\u001b[38;5;241m.\u001b[39mcommit()\n",
      "File \u001b[0;32m~/polka/PostThread-Polkadot/reddit-reposter/database_queries.py:62\u001b[0m, in \u001b[0;36mupdate_db\u001b[0;34m(start_block, backfill, schemaToUpdate, query_start)\u001b[0m\n\u001b[1;32m     58\u001b[0m \u001b[38;5;28;01mif\u001b[39;00m backfill:\n\u001b[1;32m     59\u001b[0m     \u001b[38;5;66;03m# Delete table if exists and then create it\u001b[39;00m\n\u001b[1;32m     60\u001b[0m     cur\u001b[38;5;241m.\u001b[39mexecute(\u001b[38;5;124mf\u001b[39m\u001b[38;5;124m\"\u001b[39m\u001b[38;5;124mDROP TABLE IF EXISTS \u001b[39m\u001b[38;5;132;01m{\u001b[39;00mschemaName\u001b[38;5;132;01m}\u001b[39;00m\u001b[38;5;124m\"\u001b[39m)\n\u001b[0;32m---> 62\u001b[0m     names \u001b[38;5;241m=\u001b[39m \u001b[38;5;124m'\u001b[39m\u001b[38;5;124m,\u001b[39m\u001b[38;5;124m'\u001b[39m\u001b[38;5;241m.\u001b[39mjoin([v\u001b[38;5;241m.\u001b[39msplit(\u001b[38;5;124m'\u001b[39m\u001b[38;5;124m \u001b[39m\u001b[38;5;124m'\u001b[39m)[\u001b[38;5;241m0\u001b[39m] \u001b[38;5;28;01mfor\u001b[39;00m v \u001b[38;5;129;01min\u001b[39;00m \u001b[43mschemaValue\u001b[49m\u001b[38;5;241;43m.\u001b[39;49m\u001b[43msplit\u001b[49m(\u001b[38;5;124m'\u001b[39m\u001b[38;5;124m,\u001b[39m\u001b[38;5;124m'\u001b[39m) \u001b[38;5;241m+\u001b[39m extraValues\u001b[38;5;241m.\u001b[39msplit(\u001b[38;5;124m'\u001b[39m\u001b[38;5;124m,\u001b[39m\u001b[38;5;124m'\u001b[39m)])\n\u001b[1;32m     63\u001b[0m     create_table \u001b[38;5;241m=\u001b[39m \u001b[38;5;124mf\u001b[39m\u001b[38;5;124m\"\u001b[39m\u001b[38;5;124mCREATE TABLE \u001b[39m\u001b[38;5;132;01m{\u001b[39;00mschemaName\u001b[38;5;132;01m}\u001b[39;00m\u001b[38;5;124m (\u001b[39m\u001b[38;5;132;01m{\u001b[39;00mschemaValue\u001b[38;5;132;01m}\u001b[39;00m\u001b[38;5;124m, \u001b[39m\u001b[38;5;132;01m{\u001b[39;00mextraValues\u001b[38;5;132;01m}\u001b[39;00m\u001b[38;5;124m, UNIQUE(\u001b[39m\u001b[38;5;132;01m{\u001b[39;00mnames\u001b[38;5;132;01m}\u001b[39;00m\u001b[38;5;124m))\u001b[39m\u001b[38;5;124m\"\u001b[39m\n\u001b[1;32m     64\u001b[0m     cur\u001b[38;5;241m.\u001b[39mexecute(create_table)\n",
      "\u001b[0;31mAttributeError\u001b[0m: 'NoneType' object has no attribute 'split'"
     ]
    }
   ],
   "source": [
    "last_block_updated = update_db(start_block=0, backfill=True, schemaToUpdate=None)\n",
    "con.commit()"
   ]
  },
  {
   "cell_type": "code",
   "execution_count": null,
   "id": "066ded03",
   "metadata": {},
   "outputs": [],
   "source": [
    "        schemaValue = substrate.query(\n",
    "            module='Schemas',\n",
    "            storage_function='Schemas',\n",
    "            params=[1]\n",
    "        ).value"
   ]
  },
  {
   "cell_type": "code",
   "execution_count": null,
   "id": "8662d8b2",
   "metadata": {},
   "outputs": [],
   "source": [
    "\n",
    "date_format = \"%Y-%m-%d %H:%M:%S\""
   ]
  },
  {
   "cell_type": "code",
   "execution_count": null,
   "id": "12b68a72",
   "metadata": {},
   "outputs": [],
   "source": [
    "! cp postthreadV1_write.db postthreadV1_read.db"
   ]
  },
  {
   "cell_type": "code",
   "execution_count": null,
   "id": "7ba44d8c",
   "metadata": {},
   "outputs": [],
   "source": [
    "con.close()"
   ]
  },
  {
   "cell_type": "code",
   "execution_count": null,
   "id": "4f75a87e",
   "metadata": {},
   "outputs": [],
   "source": [
    "    last_block = update_db(query_start=True,backfill=False, schemaToUpdate=None)"
   ]
  },
  {
   "cell_type": "code",
   "execution_count": null,
   "id": "3f4752bc",
   "metadata": {},
   "outputs": [],
   "source": []
  },
  {
   "cell_type": "code",
   "execution_count": null,
   "id": "a8c09a75",
   "metadata": {},
   "outputs": [],
   "source": []
  },
  {
   "cell_type": "code",
   "execution_count": null,
   "id": "25e4f54a",
   "metadata": {},
   "outputs": [],
   "source": [
    "    followers = \"followers\"\n",
    "    user_msa_id = 2941\n",
    "    \n",
    "    if followers == \"following\":\n",
    "        where_var = \"protagonist_msa_id\"\n",
    "        select_var = \"antagonist_msa_id\"\n",
    "    else:\n",
    "        where_var = \"antagonist_msa_id\"\n",
    "        select_var = \"protagonist_msa_id\"\n",
    "        \n",
    "    query = f'''\n",
    "    SELECT followers.{followers}_msa_id, date_followed, user.*\n",
    "    FROM user\n",
    "    INNER JOIN (\n",
    "        SELECT follow.{select_var} AS {followers}_msa_id, follow.date_minted AS date_followed\n",
    "        FROM follow,\n",
    "            (SELECT protagonist_msa_id, antagonist_msa_id, MAX(date_minted) AS date_minted\n",
    "                FROM follow\n",
    "                GROUP BY protagonist_msa_id, antagonist_msa_id) f2\n",
    "        WHERE follow.protagonist_msa_id=f2.protagonist_msa_id \n",
    "        AND follow.antagonist_msa_id=f2.antagonist_msa_id\n",
    "        AND follow.date_minted=f2.date_minted\n",
    "        AND follow.event = 'follow'\n",
    "        AND follow.{where_var} == {user_msa_id}\n",
    "    ) followers\n",
    "    ON user.msa_id_from_query = followers.{followers}_msa_id\n",
    "    '''\n",
    "    df = pd.read_sql_query(query, con)"
   ]
  },
  {
   "cell_type": "code",
   "execution_count": null,
   "id": "055dc755",
   "metadata": {},
   "outputs": [],
   "source": [
    "df"
   ]
  },
  {
   "cell_type": "code",
   "execution_count": null,
   "id": "70ce32b9",
   "metadata": {},
   "outputs": [],
   "source": [
    "a = []\n",
    "a.append(1)"
   ]
  },
  {
   "cell_type": "code",
   "execution_count": null,
   "id": "47420d2d",
   "metadata": {},
   "outputs": [],
   "source": [
    "a"
   ]
  },
  {
   "cell_type": "code",
   "execution_count": null,
   "id": "1399d08f",
   "metadata": {
    "scrolled": true
   },
   "outputs": [],
   "source": [
    "post_query = \"\"\"\n",
    "SELECT category, title, post.msa_id_from_query, username\n",
    "FROM post \n",
    "JOIN user ON user.msa_id_from_query = post.msa_id_from_query\n",
    "\"\"\"\n",
    "all_posts = pd.read_sql_query(post_query, con)"
   ]
  },
  {
   "cell_type": "code",
   "execution_count": null,
   "id": "59e534d4",
   "metadata": {},
   "outputs": [],
   "source": [
    "\n",
    "        all_users = pd.read_sql_query(\"SELECT msa_id_from_query, username, password FROM user\", con)"
   ]
  },
  {
   "cell_type": "code",
   "execution_count": null,
   "id": "5f51e550",
   "metadata": {},
   "outputs": [],
   "source": [
    "all_users[all_users['username'] == \"Alice\"].iloc[0].to_dict()"
   ]
  },
  {
   "cell_type": "code",
   "execution_count": null,
   "id": "e61009ed",
   "metadata": {},
   "outputs": [],
   "source": [
    "    query = f'''\n",
    "        SELECT *\n",
    "        FROM user\n",
    "    \n",
    "    '''\n",
    "    df = pd.read_sql_query(query, con)\n",
    "    df"
   ]
  },
  {
   "cell_type": "code",
   "execution_count": null,
   "id": "0c9222c4",
   "metadata": {
    "scrolled": true
   },
   "outputs": [],
   "source": [
    "    query = f'''\n",
    "        SELECT DISTINCT(msa_id_from_query, ipfs_hash)\n",
    "        FROM post\n",
    "    '''\n",
    "    df = pd.read_sql_query(query, con)\n",
    "    df"
   ]
  },
  {
   "cell_type": "code",
   "execution_count": null,
   "id": "1895d429",
   "metadata": {},
   "outputs": [],
   "source": [
    "\n",
    "    query = f'''\n",
    "        SELECT *\n",
    "        FROM follow\n",
    "        WHERE follow.antagonist_msa_id={8993}\n",
    "    '''\n",
    "    df = pd.read_sql_query(query, con)"
   ]
  },
  {
   "cell_type": "code",
   "execution_count": null,
   "id": "23a9c7f8",
   "metadata": {},
   "outputs": [],
   "source": [
    "df"
   ]
  },
  {
   "cell_type": "code",
   "execution_count": null,
   "id": "c8b598aa",
   "metadata": {},
   "outputs": [],
   "source": []
  },
  {
   "cell_type": "code",
   "execution_count": null,
   "id": "10a36f39",
   "metadata": {
    "scrolled": true
   },
   "outputs": [],
   "source": [
    "\n",
    "    minutes_filter = 60*24\n",
    "    date_where = \"\"\n",
    "    if minutes_filter is not None:\n",
    "        date_time = datetime.datetime.now() - datetime.timedelta(minutes=minutes_filter)\n",
    "        date_str = date_time.strftime(date_format)\n",
    "        date_where = f\"post.date_minted >= '{date_str}'\"\n",
    "\n",
    "    order_by = \"\"\n",
    "    if sort_by is None or sort_by == 'top':\n",
    "        order_by = \"ORDER BY total_votes DESC\"\n",
    "    if sort_by == 'new':\n",
    "        order_by = \"ORDER BY date_minted DESC\"\n",
    "\n",
    "    query = f'''\n",
    "    SELECT * FROM post\n",
    "    LEFT JOIN (\n",
    "        SELECT parent_hash, SUM(num_votes) AS total_votes \n",
    "        FROM vote GROUP BY parent_hash\n",
    "    ) votes ON votes.parent_hash = post.ipfs_hash\n",
    "    LEFT JOIN (\n",
    "        SELECT msa_id, username, password, profile_pic, wallet_ss58_address, block_number AS user_block_number, provider_key AS user_provider_key, date_minted AS user_date_minted\n",
    "        FROM user u1\n",
    "        WHERE date_minted = (SELECT max(date_minted) \n",
    "            FROM user u2\n",
    "             WHERE u1.msa_id = u2.msa_id)\n",
    "    ) users ON users.msa_id = post.msa_id_from_query\n",
    "    WHERE {date_where}\n",
    "    {order_by}\n",
    "    '''\n",
    "    df = pd.read_sql_query(query, con).drop_duplicates()\n",
    "#     list(df.groupby('category')['total_votes'].count().sort_values(ascending=False).index)"
   ]
  },
  {
   "cell_type": "code",
   "execution_count": null,
   "id": "c3afa730",
   "metadata": {},
   "outputs": [],
   "source": [
    "datetime.datetime.now()"
   ]
  },
  {
   "cell_type": "code",
   "execution_count": null,
   "id": "3329f51d",
   "metadata": {},
   "outputs": [],
   "source": [
    "!npx crust-cli publish /tmp/posts/Qmd491pRqjeiaUZznQQKqCB8K4Sb9QX2WwzWkWqiLXSQBw"
   ]
  },
  {
   "cell_type": "code",
   "execution_count": null,
   "id": "a78fc9bc",
   "metadata": {},
   "outputs": [],
   "source": [
    "df"
   ]
  },
  {
   "cell_type": "code",
   "execution_count": null,
   "id": "7dace9e5",
   "metadata": {},
   "outputs": [],
   "source": [
    "            query = f\"\"\"SELECT block_number FROM link ORDER BY date_minted DESC LIMIT 1\"\"\"\n",
    "            start_block = int(pd.read_sql_query(query, con)['block_number'].iloc[0]) + 1"
   ]
  },
  {
   "cell_type": "code",
   "execution_count": null,
   "id": "30151c50",
   "metadata": {},
   "outputs": [],
   "source": [
    "start_block"
   ]
  },
  {
   "cell_type": "code",
   "execution_count": null,
   "id": "c4eec93b",
   "metadata": {
    "scrolled": true
   },
   "outputs": [],
   "source": [
    "pd.read_sql_query(\"\"\"SELECT * FROM link\"\"\", con)"
   ]
  },
  {
   "cell_type": "code",
   "execution_count": null,
   "id": "2da2c957",
   "metadata": {},
   "outputs": [],
   "source": [
    "import networkx as nx"
   ]
  },
  {
   "cell_type": "code",
   "execution_count": null,
   "id": "90cfd823",
   "metadata": {},
   "outputs": [],
   "source": [
    "G = nx.Graph()"
   ]
  },
  {
   "cell_type": "code",
   "execution_count": null,
   "id": "cf6d5854",
   "metadata": {},
   "outputs": [],
   "source": []
  },
  {
   "cell_type": "code",
   "execution_count": null,
   "id": "2588e5be",
   "metadata": {},
   "outputs": [],
   "source": []
  },
  {
   "cell_type": "code",
   "execution_count": null,
   "id": "daaa90bc",
   "metadata": {},
   "outputs": [],
   "source": [
    "\n",
    "now = datetime.datetime.now()\n",
    "tomorrow_time = (now + datetime.timedelta(days=1)).replace(hour=0, minute=0, second=0, microsecond=0)\n",
    "(tomorrow_time - now).seconds"
   ]
  },
  {
   "cell_type": "code",
   "execution_count": null,
   "id": "4ced585f",
   "metadata": {},
   "outputs": [],
   "source": [
    "datetime.datetime.now().strftime('%Y-%m-%d')"
   ]
  },
  {
   "cell_type": "code",
   "execution_count": null,
   "id": "e2f29c95",
   "metadata": {},
   "outputs": [],
   "source": [
    "(datetime.datetime.fromisoformat((datetime.datetime.now() + datetime.timedelta(days=1)).strftime('%Y-%m-%d')) - datetime.datetime.now())"
   ]
  },
  {
   "cell_type": "code",
   "execution_count": null,
   "id": "1c6dc743",
   "metadata": {},
   "outputs": [],
   "source": [
    "date_time.seconds"
   ]
  },
  {
   "cell_type": "code",
   "execution_count": null,
   "id": "11761f60",
   "metadata": {},
   "outputs": [],
   "source": [
    "'2022-06-26 14:18:24' < date_time.strftime('%Y-%m-%d')"
   ]
  },
  {
   "cell_type": "code",
   "execution_count": null,
   "id": "b52b037c",
   "metadata": {},
   "outputs": [],
   "source": [
    "def get_user_level_df(user_msa_id=None):\n",
    "    if user_msa_id is None:\n",
    "        where_msa = \"\"\n",
    "    else:\n",
    "        where_msa = f\"WHERE msa_id_from_query = {user_msa_id}\"\n",
    "        \n",
    "    query = f'''\n",
    "    SELECT u1.*, posts.count AS post_count, comments.count AS comment_count, votes.count AS vote_count, \n",
    "            follows.count AS follow_count\n",
    "    FROM user u1\n",
    "    LEFT JOIN (\n",
    "        SELECT COUNT(*) AS count, msa_id_from_query \n",
    "        FROM post\n",
    "        {where_msa}\n",
    "        GROUP BY msa_id_from_query\n",
    "    ) posts ON u1.msa_id_from_query = posts.msa_id_from_query \n",
    "    LEFT JOIN (\n",
    "        SELECT COUNT(*) AS count, msa_id_from_query \n",
    "        FROM comment\n",
    "        {where_msa}\n",
    "        GROUP BY msa_id_from_query\n",
    "    ) comments ON u1.msa_id_from_query = comments.msa_id_from_query\n",
    "    LEFT JOIN (\n",
    "        SELECT COUNT(*) AS count, msa_id_from_query \n",
    "        FROM vote\n",
    "        {where_msa}\n",
    "        GROUP BY msa_id_from_query\n",
    "    ) votes ON u1.msa_id_from_query = votes.msa_id_from_query\n",
    "    LEFT JOIN (\n",
    "        SELECT COUNT(*) AS count, msa_id_from_query \n",
    "        FROM follow\n",
    "        {where_msa}\n",
    "        GROUP BY msa_id_from_query\n",
    "    ) follows ON u1.msa_id_from_query = follows.msa_id_from_query\n",
    "    WHERE {\"\" if where_msa == \"\" else 'u1.' + where_msa.split('WHERE ')[1] + ' AND'} date_minted = (\n",
    "        SELECT max(date_minted) \n",
    "        FROM user u2\n",
    "        WHERE u1.msa_id = u2.msa_id\n",
    "    )\n",
    "    '''\n",
    "    return df"
   ]
  },
  {
   "cell_type": "code",
   "execution_count": null,
   "id": "151cacd6",
   "metadata": {
    "scrolled": true
   },
   "outputs": [],
   "source": [
    "pd.read_sql_query(\"\"\"SELECT block_number FROM post ORDER BY date_minted DESC LIMIT 1\"\"\", con)['block_number'].iloc[0]"
   ]
  },
  {
   "cell_type": "code",
   "execution_count": null,
   "id": "e41b2307",
   "metadata": {},
   "outputs": [],
   "source": []
  },
  {
   "cell_type": "code",
   "execution_count": null,
   "id": "7766b281",
   "metadata": {},
   "outputs": [],
   "source": [
    "df = get_user_level_df(382)"
   ]
  },
  {
   "cell_type": "code",
   "execution_count": null,
   "id": "15124e87",
   "metadata": {},
   "outputs": [],
   "source": [
    "df.iloc[0].to_dict()"
   ]
  },
  {
   "cell_type": "code",
   "execution_count": null,
   "id": "9bbc94e8",
   "metadata": {},
   "outputs": [],
   "source": [
    "\n",
    "accounts = {'Alice': 693, 'Charlie': 382, 'Dave': 694, 'Eve': 695, 'Ferdie': 696}"
   ]
  },
  {
   "cell_type": "code",
   "execution_count": null,
   "id": "c9099c81",
   "metadata": {},
   "outputs": [],
   "source": [
    "post_hash"
   ]
  },
  {
   "cell_type": "code",
   "execution_count": null,
   "id": "a6548f90",
   "metadata": {
    "scrolled": true
   },
   "outputs": [],
   "source": [
    "    user_msa_id=None\n",
    "    if user_msa_id is None:\n",
    "        where_msa = \"\"\n",
    "    else:\n",
    "        where_msa = f\"WHERE msa_id_from_query = {user_msa_id}\"\n",
    "        \n",
    "    query = f'''\n",
    "    SELECT u1.*, posts.count AS post_count, comments.count AS comment_count, votes.count AS vote_count, \n",
    "            follows.count AS follow_count\n",
    "    FROM user u1\n",
    "    LEFT JOIN (\n",
    "        SELECT COUNT(*) AS count, msa_id_from_query \n",
    "        FROM post\n",
    "        {where_msa}\n",
    "        GROUP BY msa_id_from_query\n",
    "    ) posts ON u1.msa_id_from_query = posts.msa_id_from_query \n",
    "    LEFT JOIN (\n",
    "        SELECT COUNT(*) AS count, msa_id_from_query \n",
    "        FROM comment\n",
    "        {where_msa}\n",
    "        GROUP BY msa_id_from_query\n",
    "    ) comments ON u1.msa_id_from_query = comments.msa_id_from_query\n",
    "    LEFT JOIN (\n",
    "        SELECT COUNT(*) AS count, msa_id_from_query \n",
    "        FROM vote\n",
    "        {where_msa}\n",
    "        GROUP BY msa_id_from_query\n",
    "    ) votes ON u1.msa_id_from_query = votes.msa_id_from_query\n",
    "    LEFT JOIN (\n",
    "        SELECT COUNT(*) AS count, msa_id_from_query \n",
    "        FROM follow\n",
    "        {where_msa}\n",
    "        GROUP BY msa_id_from_query\n",
    "    ) follows ON u1.msa_id_from_query = follows.msa_id_from_query\n",
    "    WHERE {\"\" if where_msa == \"\" else 'u1.' + where_msa.split('WHERE ')[1] + ' AND'} date_minted = (\n",
    "        SELECT max(date_minted) \n",
    "        FROM user u2\n",
    "        WHERE u1.msa_id = u2.msa_id\n",
    "    )\n",
    "    '''\n",
    "    df = pd.read_sql_query(query, con)\n",
    "    df"
   ]
  },
  {
   "cell_type": "code",
   "execution_count": null,
   "id": "79bdcdc9",
   "metadata": {},
   "outputs": [],
   "source": [
    "df.sort_values(\"post_count\", ascending=False)"
   ]
  },
  {
   "cell_type": "code",
   "execution_count": null,
   "id": "034a6741",
   "metadata": {},
   "outputs": [],
   "source": [
    "import time\n",
    "time.time()"
   ]
  },
  {
   "cell_type": "code",
   "execution_count": null,
   "id": "4c00e954",
   "metadata": {
    "scrolled": true
   },
   "outputs": [],
   "source": [
    "df[df['post_count'] > 0]"
   ]
  },
  {
   "cell_type": "code",
   "execution_count": null,
   "id": "530e19b7",
   "metadata": {},
   "outputs": [],
   "source": [
    "query = \"\"\"\n",
    "    SELECT * FROM post \n",
    "    LEFT JOIN (\n",
    "        SELECT parent_hash, SUM(num_votes) AS total_votes \n",
    "        FROM vote GROUP BY parent_hash\n",
    "    ) votes ON votes.parent_hash = post.ipfs_hash\n",
    "    LEFT JOIN (\n",
    "        SELECT msa_id, username, password, profile_pic, wallet_ss58_address, block_number AS user_block_number, provider_key AS user_provider_key, date_minted AS user_date_minted\n",
    "        FROM user u1\n",
    "        WHERE date_minted = (SELECT max(date_minted) \n",
    "            FROM user u2\n",
    "             WHERE u1.msa_id = u2.msa_id)\n",
    "    ) users ON users.msa_id = post.msa_id_from_query\n",
    "    WHERE post.ipfs_hash = 'QmbG2dxLWHKvdgsTqDzLjhD96BXrLQUeJkrLuasmPZKgn9'\n",
    "    ORDER BY total_votes DESC\n",
    "    \"\"\"\n",
    "df = pd.read_sql_query(query, con)\n",
    "df"
   ]
  },
  {
   "cell_type": "code",
   "execution_count": null,
   "id": "7e893987",
   "metadata": {
    "scrolled": true
   },
   "outputs": [],
   "source": [
    "query = '''\n",
    "SELECT * \n",
    "FROM post\n",
    "'''\n",
    "df = pd.read_sql_query(query, con)\n",
    "df"
   ]
  },
  {
   "cell_type": "code",
   "execution_count": null,
   "id": "f92b73bc",
   "metadata": {},
   "outputs": [],
   "source": []
  },
  {
   "cell_type": "code",
   "execution_count": null,
   "id": "70e4619f",
   "metadata": {
    "scrolled": true
   },
   "outputs": [],
   "source": [
    "query = '''\n",
    "SELECT * \n",
    "FROM follow\n",
    "WHERE protagonist_msa_id = 1335 \n",
    "ORDER BY protagonist_msa_id\n",
    "LIMIT 10\n",
    "'''\n",
    "df = pd.read_sql_query(query, con)\n",
    "df"
   ]
  },
  {
   "cell_type": "code",
   "execution_count": null,
   "id": "ecf20a3e",
   "metadata": {},
   "outputs": [],
   "source": []
  },
  {
   "cell_type": "code",
   "execution_count": null,
   "id": "182096ce",
   "metadata": {
    "scrolled": true
   },
   "outputs": [],
   "source": [
    "user_msa_id = 1355\n",
    "query = f'''\n",
    "SELECT *\n",
    "FROM post\n",
    "'''\n",
    "df = pd.read_sql_query(query, con)\n",
    "df"
   ]
  },
  {
   "cell_type": "code",
   "execution_count": null,
   "id": "87d6303d",
   "metadata": {
    "scrolled": true
   },
   "outputs": [],
   "source": [
    "user_msa_id = 1355\n",
    "query = f'''\n",
    "SELECT user.*, posts.count AS post_count, comments.count AS comment_count, votes.count AS vote_count, \n",
    "        follows.count AS follow_count\n",
    "FROM user\n",
    "LEFT JOIN (\n",
    "    SELECT COUNT(*) AS count, msa_id_from_query \n",
    "    FROM post\n",
    "    WHERE msa_id_from_query = {user_msa_id}\n",
    ") posts ON user.msa_id_from_query = posts.msa_id_from_query \n",
    "LEFT JOIN (\n",
    "    SELECT COUNT(*) AS count, msa_id_from_query \n",
    "    FROM comment\n",
    "    WHERE msa_id_from_query = {user_msa_id}\n",
    ") comments ON user.msa_id_from_query = comments.msa_id_from_query\n",
    "LEFT JOIN (\n",
    "    SELECT COUNT(*) AS count, msa_id_from_query \n",
    "    FROM vote\n",
    "    WHERE msa_id_from_query = {user_msa_id}\n",
    ") votes ON user.msa_id_from_query = votes.msa_id_from_query\n",
    "LEFT JOIN (\n",
    "    SELECT COUNT(*) AS count, msa_id_from_query \n",
    "    FROM follow\n",
    "    WHERE msa_id_from_query = {user_msa_id}\n",
    ") follows ON user.msa_id_from_query = follows.msa_id_from_query\n",
    "WHERE user.msa_id_from_query = {user_msa_id} \n",
    "'''\n",
    "df = pd.read_sql_query(query, con).fillna(0)\n",
    "df"
   ]
  },
  {
   "cell_type": "code",
   "execution_count": null,
   "id": "28dc7f71",
   "metadata": {
    "scrolled": true
   },
   "outputs": [],
   "source": [
    "query = '''\n",
    "SELECT * FROM vote\n",
    "'''\n",
    "df = pd.read_sql_query(query, con)\n",
    "df"
   ]
  },
  {
   "cell_type": "code",
   "execution_count": null,
   "id": "de8a3d36",
   "metadata": {
    "scrolled": true
   },
   "outputs": [],
   "source": [
    "query = '''\n",
    "SELECT * FROM user\n",
    "'''\n",
    "df = pd.read_sql_query(query, con)\n",
    "df"
   ]
  },
  {
   "cell_type": "code",
   "execution_count": null,
   "id": "0dec8a66",
   "metadata": {},
   "outputs": [],
   "source": [
    "import uvicorn\n",
    "uvicorn.server.Config?"
   ]
  },
  {
   "cell_type": "code",
   "execution_count": null,
   "id": "a7680302",
   "metadata": {
    "scrolled": true
   },
   "outputs": [],
   "source": [
    "query = '''\n",
    "SELECT * FROM comment\n",
    "'''\n",
    "df = pd.read_sql_query(query, con)\n",
    "df"
   ]
  },
  {
   "cell_type": "code",
   "execution_count": null,
   "id": "05fb1d0e",
   "metadata": {},
   "outputs": [],
   "source": [
    "query = '''\n",
    "SELECT DISTINCT(category) FROM post\n",
    "'''\n",
    "df = pd.read_sql_query(query, con)\n",
    "df"
   ]
  },
  {
   "cell_type": "code",
   "execution_count": null,
   "id": "1d165de0",
   "metadata": {
    "scrolled": true
   },
   "outputs": [],
   "source": [
    "    page_number = 1\n",
    "    num_posts = 10\n",
    "    category = None\n",
    "    sort_by = \"top\"\n",
    "    minutes_filter = None\n",
    "    user_msa_id = 1\n",
    "\n",
    "\n",
    "    if minutes_filter is None:\n",
    "        minutes_filter = 60*24*100\n",
    "\n",
    "    category_where = \"\"\n",
    "    if category:\n",
    "        category_where = f\"AND post.category = '{category}'\"\n",
    "\n",
    "    user_where = \"\"\n",
    "    if user_msa_id:\n",
    "        user_where = f\"AND post.msa_id_from_query = {user_msa_id}\"\n",
    "\n",
    "    order_by = \"\"\n",
    "    if sort_by is None or sort_by == 'top':\n",
    "        order_by = \"ORDER BY total_votes DESC\"\n",
    "    if sort_by == 'new':\n",
    "        order_by = \"ORDER BY date_minted DESC\"\n",
    "\n",
    "    lower_bound = (page_number - 1) * num_posts\n",
    "    upper_bound = page_number * num_posts\n",
    "\n",
    "    date_format = \"%m-%d-%Y %H:%M:%S\"\n",
    "#     date_format = \"%Y-%m-%d %H:%M:%S\"\n",
    "    date_time = datetime.datetime.now() - datetime.timedelta(minutes=minutes_filter)\n",
    "    date_str = date_time.strftime(date_format)\n",
    "\n",
    "    query = f'''\n",
    "    SELECT * FROM post \n",
    "    JOIN (\n",
    "        SELECT parent_hash, SUM(num_votes) AS total_votes \n",
    "        FROM vote GROUP BY parent_hash\n",
    "    ) votes ON votes.parent_hash = post.ipfs_hash\n",
    "    WHERE post.date_minted >= '{date_str}' {category_where} {user_where}\n",
    "    {order_by}\n",
    "    LIMIT {lower_bound}, {upper_bound}\n",
    "    '''\n",
    "    df = pd.read_sql_query(query, con)\n",
    "    df"
   ]
  },
  {
   "cell_type": "code",
   "execution_count": null,
   "id": "0ed0ffd7",
   "metadata": {},
   "outputs": [],
   "source": [
    "print(query)"
   ]
  },
  {
   "cell_type": "code",
   "execution_count": null,
   "id": "dd26960c",
   "metadata": {},
   "outputs": [],
   "source": []
  },
  {
   "cell_type": "code",
   "execution_count": null,
   "id": "a1c68e89",
   "metadata": {},
   "outputs": [],
   "source": []
  },
  {
   "cell_type": "code",
   "execution_count": null,
   "id": "30769ee8",
   "metadata": {},
   "outputs": [],
   "source": [
    "for row in cur.execute(\"PRAGMA table_info('post')\"):\n",
    "    print(row)"
   ]
  },
  {
   "cell_type": "code",
   "execution_count": null,
   "id": "50cd8907",
   "metadata": {},
   "outputs": [],
   "source": []
  },
  {
   "cell_type": "code",
   "execution_count": null,
   "id": "9ed01102",
   "metadata": {},
   "outputs": [],
   "source": [
    "for schema, contents in content_jsons.items():\n",
    "    schema_items = schema.split(',')\n",
    "    \n",
    "    for content in contents:\n",
    "        ipfs_hash = bytes.fromhex(content['data'][2:]).decode()\n",
    "            \n",
    "        data = json.loads(client.cat(ipfs_hash).decode())"
   ]
  },
  {
   "cell_type": "code",
   "execution_count": null,
   "id": "1f0da195",
   "metadata": {},
   "outputs": [],
   "source": []
  },
  {
   "cell_type": "code",
   "execution_count": null,
   "id": "c64f2b14",
   "metadata": {
    "scrolled": true
   },
   "outputs": [],
   "source": [
    "def subscription_handler(obj, update_nr, subscription_id):\n",
    "    last_block_updated = update_db(start_block=obj['header']['number'], backfill=False)\n",
    "    con.commit()\n",
    "    print(last_block_updated)\n",
    "\n",
    "\n",
    "result = substrate.subscribe_block_headers(subscription_handler, include_author=False)"
   ]
  },
  {
   "cell_type": "code",
   "execution_count": null,
   "id": "136ac930",
   "metadata": {},
   "outputs": [],
   "source": [
    "def subscription_handler(obj, update_nr, subscription_id):\n",
    "    return obj, update_nr, subscription_id\n",
    "result = substrate.subscribe_block_headers(subscription_handler, include_author=False)"
   ]
  },
  {
   "cell_type": "code",
   "execution_count": null,
   "id": "fe71b99b",
   "metadata": {
    "scrolled": true
   },
   "outputs": [],
   "source": [
    "e = substrate.get_events(substrate.get_block_hash(result[0]['header']['number']))"
   ]
  },
  {
   "cell_type": "code",
   "execution_count": null,
   "id": "830b806d",
   "metadata": {},
   "outputs": [],
   "source": [
    "substrate."
   ]
  },
  {
   "cell_type": "code",
   "execution_count": null,
   "id": "8103b432",
   "metadata": {},
   "outputs": [],
   "source": [
    "e[1].value"
   ]
  },
  {
   "cell_type": "code",
   "execution_count": null,
   "id": "0234e55f",
   "metadata": {},
   "outputs": [],
   "source": [
    "result[0]"
   ]
  },
  {
   "cell_type": "code",
   "execution_count": null,
   "id": "02afb164",
   "metadata": {},
   "outputs": [],
   "source": [
    "result[0]['header']['digest']['logs'][0]"
   ]
  },
  {
   "cell_type": "code",
   "execution_count": null,
   "id": "3f3d10f5",
   "metadata": {
    "scrolled": true
   },
   "outputs": [],
   "source": [
    "date_str = None\n",
    "for extrinsic in substrate.get_block(substrate.get_block_hash(2))['extrinsics']:\n",
    "    if \"Timestamp\" == extrinsic.value['call']['call_module']:\n",
    "        timestamp = extrinsic.value['call']['call_args'][0]['value']\n",
    "        date_time = datetime.fromtimestamp(timestamp/1000)\n",
    "        date_str = date_time.strftime(\"%m/%d/%Y, %H:%M:%S\")\n",
    "        break\n",
    "if date_str is None:\n",
    "    print('Fail')\n",
    "date_str"
   ]
  },
  {
   "cell_type": "code",
   "execution_count": null,
   "id": "c4e18333",
   "metadata": {},
   "outputs": [],
   "source": []
  },
  {
   "cell_type": "code",
   "execution_count": null,
   "id": "f110307e",
   "metadata": {},
   "outputs": [],
   "source": [
    "extrinsic = substrate.get_block(substrate.get_block_hash(2))['extrinsics'][1]"
   ]
  },
  {
   "cell_type": "code",
   "execution_count": null,
   "id": "053846ab",
   "metadata": {},
   "outputs": [],
   "source": [
    "extrinsic.value['call']"
   ]
  },
  {
   "cell_type": "code",
   "execution_count": null,
   "id": "d90cfbc2",
   "metadata": {},
   "outputs": [],
   "source": []
  }
 ],
 "metadata": {
  "kernelspec": {
   "display_name": "Python 3 (ipykernel)",
   "language": "python",
   "name": "python3"
  },
  "language_info": {
   "codemirror_mode": {
    "name": "ipython",
    "version": 3
   },
   "file_extension": ".py",
   "mimetype": "text/x-python",
   "name": "python",
   "nbconvert_exporter": "python",
   "pygments_lexer": "ipython3",
   "version": "3.8.10"
  },
  "vscode": {
   "interpreter": {
    "hash": "f90a51316803318f0b952c570a4fe32d53aa73ff3300e1da5777ab9e91b8249c"
   }
  }
 },
 "nbformat": 4,
 "nbformat_minor": 5
}
